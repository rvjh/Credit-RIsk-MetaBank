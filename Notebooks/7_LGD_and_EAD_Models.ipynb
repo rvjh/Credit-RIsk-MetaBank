{
  "cells": [
    {
      "cell_type": "markdown",
      "metadata": {
        "id": "z8juJW_u1E60"
      },
      "source": [
        "# Import Libraries"
      ]
    },
    {
      "cell_type": "code",
      "source": [
        "from google.colab import drive\n",
        "drive.mount('/content/drive')"
      ],
      "metadata": {
        "colab": {
          "base_uri": "https://localhost:8080/"
        },
        "id": "i_sjQl5H1JI2",
        "outputId": "86e967b3-d4ae-4af4-d341-1833b255dca1"
      },
      "execution_count": 1,
      "outputs": [
        {
          "output_type": "stream",
          "name": "stdout",
          "text": [
            "Mounted at /content/drive\n"
          ]
        }
      ]
    },
    {
      "cell_type": "code",
      "execution_count": 2,
      "metadata": {
        "id": "l9AUT_8N1E6-"
      },
      "outputs": [],
      "source": [
        "import numpy as np\n",
        "import pandas as pd\n",
        "\n",
        "import matplotlib.pyplot as plt\n",
        "import seaborn as sns\n",
        "\n",
        "import warnings\n",
        "warnings.filterwarnings(\"ignore\")"
      ]
    },
    {
      "cell_type": "markdown",
      "metadata": {
        "id": "yefwrmqq1E7C"
      },
      "source": [
        "# Import Data"
      ]
    },
    {
      "cell_type": "code",
      "execution_count": 3,
      "metadata": {
        "id": "p79uW0hy1E7D"
      },
      "outputs": [],
      "source": [
        "# Import data.\n",
        "loan_data_preprocessed_backup = pd.read_csv('/content/drive/MyDrive/Jovian/Credit/loan_data_2007_2014_v2.csv')\n",
        "loan_data_preprocessed = loan_data_preprocessed_backup.copy()\n",
        "\n",
        "loan_data_defaults = pd.read_csv('/content/drive/MyDrive/Jovian/Credit/loan_data_defaults.csv')"
      ]
    },
    {
      "cell_type": "markdown",
      "metadata": {
        "id": "o1XrtrM51E7F"
      },
      "source": [
        "# Explore Data"
      ]
    },
    {
      "cell_type": "code",
      "execution_count": 4,
      "metadata": {
        "colab": {
          "base_uri": "https://localhost:8080/",
          "height": 275
        },
        "id": "INYpW5b21E7G",
        "outputId": "a25e1565-2ff3-4911-85dd-9db363ea0c07"
      },
      "outputs": [
        {
          "output_type": "stream",
          "name": "stdout",
          "text": [
            "(466285, 207)\n"
          ]
        },
        {
          "output_type": "execute_result",
          "data": {
            "text/plain": [
              "   Unnamed: 0       id  member_id  loan_amnt  funded_amnt  funded_amnt_inv  \\\n",
              "0           0  1077501    1296599       5000         5000           4975.0   \n",
              "1           1  1077430    1314167       2500         2500           2500.0   \n",
              "\n",
              "         term  int_rate  installment grade  ... addr_state:TX addr_state:UT  \\\n",
              "0   36 months     10.65       162.87     B  ...             0             0   \n",
              "1   60 months     15.27        59.83     C  ...             0             0   \n",
              "\n",
              "  addr_state:VA addr_state:VT  addr_state:WA addr_state:WI addr_state:WV  \\\n",
              "0             0             0              0             0             0   \n",
              "1             0             0              0             0             0   \n",
              "\n",
              "  addr_state:WY initial_list_status:f initial_list_status:w  \n",
              "0             0                     1                     0  \n",
              "1             0                     1                     0  \n",
              "\n",
              "[2 rows x 207 columns]"
            ],
            "text/html": [
              "\n",
              "  <div id=\"df-883b09de-b7b4-4f9a-bf1e-04aab519c7f8\">\n",
              "    <div class=\"colab-df-container\">\n",
              "      <div>\n",
              "<style scoped>\n",
              "    .dataframe tbody tr th:only-of-type {\n",
              "        vertical-align: middle;\n",
              "    }\n",
              "\n",
              "    .dataframe tbody tr th {\n",
              "        vertical-align: top;\n",
              "    }\n",
              "\n",
              "    .dataframe thead th {\n",
              "        text-align: right;\n",
              "    }\n",
              "</style>\n",
              "<table border=\"1\" class=\"dataframe\">\n",
              "  <thead>\n",
              "    <tr style=\"text-align: right;\">\n",
              "      <th></th>\n",
              "      <th>Unnamed: 0</th>\n",
              "      <th>id</th>\n",
              "      <th>member_id</th>\n",
              "      <th>loan_amnt</th>\n",
              "      <th>funded_amnt</th>\n",
              "      <th>funded_amnt_inv</th>\n",
              "      <th>term</th>\n",
              "      <th>int_rate</th>\n",
              "      <th>installment</th>\n",
              "      <th>grade</th>\n",
              "      <th>...</th>\n",
              "      <th>addr_state:TX</th>\n",
              "      <th>addr_state:UT</th>\n",
              "      <th>addr_state:VA</th>\n",
              "      <th>addr_state:VT</th>\n",
              "      <th>addr_state:WA</th>\n",
              "      <th>addr_state:WI</th>\n",
              "      <th>addr_state:WV</th>\n",
              "      <th>addr_state:WY</th>\n",
              "      <th>initial_list_status:f</th>\n",
              "      <th>initial_list_status:w</th>\n",
              "    </tr>\n",
              "  </thead>\n",
              "  <tbody>\n",
              "    <tr>\n",
              "      <th>0</th>\n",
              "      <td>0</td>\n",
              "      <td>1077501</td>\n",
              "      <td>1296599</td>\n",
              "      <td>5000</td>\n",
              "      <td>5000</td>\n",
              "      <td>4975.0</td>\n",
              "      <td>36 months</td>\n",
              "      <td>10.65</td>\n",
              "      <td>162.87</td>\n",
              "      <td>B</td>\n",
              "      <td>...</td>\n",
              "      <td>0</td>\n",
              "      <td>0</td>\n",
              "      <td>0</td>\n",
              "      <td>0</td>\n",
              "      <td>0</td>\n",
              "      <td>0</td>\n",
              "      <td>0</td>\n",
              "      <td>0</td>\n",
              "      <td>1</td>\n",
              "      <td>0</td>\n",
              "    </tr>\n",
              "    <tr>\n",
              "      <th>1</th>\n",
              "      <td>1</td>\n",
              "      <td>1077430</td>\n",
              "      <td>1314167</td>\n",
              "      <td>2500</td>\n",
              "      <td>2500</td>\n",
              "      <td>2500.0</td>\n",
              "      <td>60 months</td>\n",
              "      <td>15.27</td>\n",
              "      <td>59.83</td>\n",
              "      <td>C</td>\n",
              "      <td>...</td>\n",
              "      <td>0</td>\n",
              "      <td>0</td>\n",
              "      <td>0</td>\n",
              "      <td>0</td>\n",
              "      <td>0</td>\n",
              "      <td>0</td>\n",
              "      <td>0</td>\n",
              "      <td>0</td>\n",
              "      <td>1</td>\n",
              "      <td>0</td>\n",
              "    </tr>\n",
              "  </tbody>\n",
              "</table>\n",
              "<p>2 rows × 207 columns</p>\n",
              "</div>\n",
              "      <button class=\"colab-df-convert\" onclick=\"convertToInteractive('df-883b09de-b7b4-4f9a-bf1e-04aab519c7f8')\"\n",
              "              title=\"Convert this dataframe to an interactive table.\"\n",
              "              style=\"display:none;\">\n",
              "        \n",
              "  <svg xmlns=\"http://www.w3.org/2000/svg\" height=\"24px\"viewBox=\"0 0 24 24\"\n",
              "       width=\"24px\">\n",
              "    <path d=\"M0 0h24v24H0V0z\" fill=\"none\"/>\n",
              "    <path d=\"M18.56 5.44l.94 2.06.94-2.06 2.06-.94-2.06-.94-.94-2.06-.94 2.06-2.06.94zm-11 1L8.5 8.5l.94-2.06 2.06-.94-2.06-.94L8.5 2.5l-.94 2.06-2.06.94zm10 10l.94 2.06.94-2.06 2.06-.94-2.06-.94-.94-2.06-.94 2.06-2.06.94z\"/><path d=\"M17.41 7.96l-1.37-1.37c-.4-.4-.92-.59-1.43-.59-.52 0-1.04.2-1.43.59L10.3 9.45l-7.72 7.72c-.78.78-.78 2.05 0 2.83L4 21.41c.39.39.9.59 1.41.59.51 0 1.02-.2 1.41-.59l7.78-7.78 2.81-2.81c.8-.78.8-2.07 0-2.86zM5.41 20L4 18.59l7.72-7.72 1.47 1.35L5.41 20z\"/>\n",
              "  </svg>\n",
              "      </button>\n",
              "      \n",
              "  <style>\n",
              "    .colab-df-container {\n",
              "      display:flex;\n",
              "      flex-wrap:wrap;\n",
              "      gap: 12px;\n",
              "    }\n",
              "\n",
              "    .colab-df-convert {\n",
              "      background-color: #E8F0FE;\n",
              "      border: none;\n",
              "      border-radius: 50%;\n",
              "      cursor: pointer;\n",
              "      display: none;\n",
              "      fill: #1967D2;\n",
              "      height: 32px;\n",
              "      padding: 0 0 0 0;\n",
              "      width: 32px;\n",
              "    }\n",
              "\n",
              "    .colab-df-convert:hover {\n",
              "      background-color: #E2EBFA;\n",
              "      box-shadow: 0px 1px 2px rgba(60, 64, 67, 0.3), 0px 1px 3px 1px rgba(60, 64, 67, 0.15);\n",
              "      fill: #174EA6;\n",
              "    }\n",
              "\n",
              "    [theme=dark] .colab-df-convert {\n",
              "      background-color: #3B4455;\n",
              "      fill: #D2E3FC;\n",
              "    }\n",
              "\n",
              "    [theme=dark] .colab-df-convert:hover {\n",
              "      background-color: #434B5C;\n",
              "      box-shadow: 0px 1px 3px 1px rgba(0, 0, 0, 0.15);\n",
              "      filter: drop-shadow(0px 1px 2px rgba(0, 0, 0, 0.3));\n",
              "      fill: #FFFFFF;\n",
              "    }\n",
              "  </style>\n",
              "\n",
              "      <script>\n",
              "        const buttonEl =\n",
              "          document.querySelector('#df-883b09de-b7b4-4f9a-bf1e-04aab519c7f8 button.colab-df-convert');\n",
              "        buttonEl.style.display =\n",
              "          google.colab.kernel.accessAllowed ? 'block' : 'none';\n",
              "\n",
              "        async function convertToInteractive(key) {\n",
              "          const element = document.querySelector('#df-883b09de-b7b4-4f9a-bf1e-04aab519c7f8');\n",
              "          const dataTable =\n",
              "            await google.colab.kernel.invokeFunction('convertToInteractive',\n",
              "                                                     [key], {});\n",
              "          if (!dataTable) return;\n",
              "\n",
              "          const docLinkHtml = 'Like what you see? Visit the ' +\n",
              "            '<a target=\"_blank\" href=https://colab.research.google.com/notebooks/data_table.ipynb>data table notebook</a>'\n",
              "            + ' to learn more about interactive tables.';\n",
              "          element.innerHTML = '';\n",
              "          dataTable['output_type'] = 'display_data';\n",
              "          await google.colab.output.renderOutput(dataTable, element);\n",
              "          const docLink = document.createElement('div');\n",
              "          docLink.innerHTML = docLinkHtml;\n",
              "          element.appendChild(docLink);\n",
              "        }\n",
              "      </script>\n",
              "    </div>\n",
              "  </div>\n",
              "  "
            ]
          },
          "metadata": {},
          "execution_count": 4
        }
      ],
      "source": [
        "print(loan_data_preprocessed.shape)\n",
        "loan_data_preprocessed.head(2)"
      ]
    },
    {
      "cell_type": "code",
      "execution_count": 5,
      "metadata": {
        "colab": {
          "base_uri": "https://localhost:8080/",
          "height": 275
        },
        "id": "Sq4ZH6cq1E7J",
        "outputId": "5c794cc8-3e57-4a1c-f128-8d021c6def2a"
      },
      "outputs": [
        {
          "output_type": "stream",
          "name": "stdout",
          "text": [
            "(43236, 211)\n"
          ]
        },
        {
          "output_type": "execute_result",
          "data": {
            "text/plain": [
              "   Unnamed: 0  Unnamed: 0.1       id  member_id  loan_amnt  funded_amnt  \\\n",
              "0           1             1  1077430    1314167       2500         2500   \n",
              "1           8             8  1071795    1306957       5600         5600   \n",
              "\n",
              "   funded_amnt_inv        term  int_rate  installment  ... addr_state:VT  \\\n",
              "0           2500.0   60 months     15.27        59.83  ...             0   \n",
              "1           5600.0   60 months     21.28       152.39  ...             0   \n",
              "\n",
              "  addr_state:WA addr_state:WI addr_state:WV addr_state:WY  \\\n",
              "0             0             0             0             0   \n",
              "1             0             0             0             0   \n",
              "\n",
              "   initial_list_status:f initial_list_status:w recovery_rate       CCF  \\\n",
              "0                      1                     0      0.046832  0.817416   \n",
              "1                      1                     0      0.033761  0.971068   \n",
              "\n",
              "  recovery_rate_0_1  \n",
              "0                 1  \n",
              "1                 1  \n",
              "\n",
              "[2 rows x 211 columns]"
            ],
            "text/html": [
              "\n",
              "  <div id=\"df-939f7970-bff6-4af3-9761-2a6de004aa86\">\n",
              "    <div class=\"colab-df-container\">\n",
              "      <div>\n",
              "<style scoped>\n",
              "    .dataframe tbody tr th:only-of-type {\n",
              "        vertical-align: middle;\n",
              "    }\n",
              "\n",
              "    .dataframe tbody tr th {\n",
              "        vertical-align: top;\n",
              "    }\n",
              "\n",
              "    .dataframe thead th {\n",
              "        text-align: right;\n",
              "    }\n",
              "</style>\n",
              "<table border=\"1\" class=\"dataframe\">\n",
              "  <thead>\n",
              "    <tr style=\"text-align: right;\">\n",
              "      <th></th>\n",
              "      <th>Unnamed: 0</th>\n",
              "      <th>Unnamed: 0.1</th>\n",
              "      <th>id</th>\n",
              "      <th>member_id</th>\n",
              "      <th>loan_amnt</th>\n",
              "      <th>funded_amnt</th>\n",
              "      <th>funded_amnt_inv</th>\n",
              "      <th>term</th>\n",
              "      <th>int_rate</th>\n",
              "      <th>installment</th>\n",
              "      <th>...</th>\n",
              "      <th>addr_state:VT</th>\n",
              "      <th>addr_state:WA</th>\n",
              "      <th>addr_state:WI</th>\n",
              "      <th>addr_state:WV</th>\n",
              "      <th>addr_state:WY</th>\n",
              "      <th>initial_list_status:f</th>\n",
              "      <th>initial_list_status:w</th>\n",
              "      <th>recovery_rate</th>\n",
              "      <th>CCF</th>\n",
              "      <th>recovery_rate_0_1</th>\n",
              "    </tr>\n",
              "  </thead>\n",
              "  <tbody>\n",
              "    <tr>\n",
              "      <th>0</th>\n",
              "      <td>1</td>\n",
              "      <td>1</td>\n",
              "      <td>1077430</td>\n",
              "      <td>1314167</td>\n",
              "      <td>2500</td>\n",
              "      <td>2500</td>\n",
              "      <td>2500.0</td>\n",
              "      <td>60 months</td>\n",
              "      <td>15.27</td>\n",
              "      <td>59.83</td>\n",
              "      <td>...</td>\n",
              "      <td>0</td>\n",
              "      <td>0</td>\n",
              "      <td>0</td>\n",
              "      <td>0</td>\n",
              "      <td>0</td>\n",
              "      <td>1</td>\n",
              "      <td>0</td>\n",
              "      <td>0.046832</td>\n",
              "      <td>0.817416</td>\n",
              "      <td>1</td>\n",
              "    </tr>\n",
              "    <tr>\n",
              "      <th>1</th>\n",
              "      <td>8</td>\n",
              "      <td>8</td>\n",
              "      <td>1071795</td>\n",
              "      <td>1306957</td>\n",
              "      <td>5600</td>\n",
              "      <td>5600</td>\n",
              "      <td>5600.0</td>\n",
              "      <td>60 months</td>\n",
              "      <td>21.28</td>\n",
              "      <td>152.39</td>\n",
              "      <td>...</td>\n",
              "      <td>0</td>\n",
              "      <td>0</td>\n",
              "      <td>0</td>\n",
              "      <td>0</td>\n",
              "      <td>0</td>\n",
              "      <td>1</td>\n",
              "      <td>0</td>\n",
              "      <td>0.033761</td>\n",
              "      <td>0.971068</td>\n",
              "      <td>1</td>\n",
              "    </tr>\n",
              "  </tbody>\n",
              "</table>\n",
              "<p>2 rows × 211 columns</p>\n",
              "</div>\n",
              "      <button class=\"colab-df-convert\" onclick=\"convertToInteractive('df-939f7970-bff6-4af3-9761-2a6de004aa86')\"\n",
              "              title=\"Convert this dataframe to an interactive table.\"\n",
              "              style=\"display:none;\">\n",
              "        \n",
              "  <svg xmlns=\"http://www.w3.org/2000/svg\" height=\"24px\"viewBox=\"0 0 24 24\"\n",
              "       width=\"24px\">\n",
              "    <path d=\"M0 0h24v24H0V0z\" fill=\"none\"/>\n",
              "    <path d=\"M18.56 5.44l.94 2.06.94-2.06 2.06-.94-2.06-.94-.94-2.06-.94 2.06-2.06.94zm-11 1L8.5 8.5l.94-2.06 2.06-.94-2.06-.94L8.5 2.5l-.94 2.06-2.06.94zm10 10l.94 2.06.94-2.06 2.06-.94-2.06-.94-.94-2.06-.94 2.06-2.06.94z\"/><path d=\"M17.41 7.96l-1.37-1.37c-.4-.4-.92-.59-1.43-.59-.52 0-1.04.2-1.43.59L10.3 9.45l-7.72 7.72c-.78.78-.78 2.05 0 2.83L4 21.41c.39.39.9.59 1.41.59.51 0 1.02-.2 1.41-.59l7.78-7.78 2.81-2.81c.8-.78.8-2.07 0-2.86zM5.41 20L4 18.59l7.72-7.72 1.47 1.35L5.41 20z\"/>\n",
              "  </svg>\n",
              "      </button>\n",
              "      \n",
              "  <style>\n",
              "    .colab-df-container {\n",
              "      display:flex;\n",
              "      flex-wrap:wrap;\n",
              "      gap: 12px;\n",
              "    }\n",
              "\n",
              "    .colab-df-convert {\n",
              "      background-color: #E8F0FE;\n",
              "      border: none;\n",
              "      border-radius: 50%;\n",
              "      cursor: pointer;\n",
              "      display: none;\n",
              "      fill: #1967D2;\n",
              "      height: 32px;\n",
              "      padding: 0 0 0 0;\n",
              "      width: 32px;\n",
              "    }\n",
              "\n",
              "    .colab-df-convert:hover {\n",
              "      background-color: #E2EBFA;\n",
              "      box-shadow: 0px 1px 2px rgba(60, 64, 67, 0.3), 0px 1px 3px 1px rgba(60, 64, 67, 0.15);\n",
              "      fill: #174EA6;\n",
              "    }\n",
              "\n",
              "    [theme=dark] .colab-df-convert {\n",
              "      background-color: #3B4455;\n",
              "      fill: #D2E3FC;\n",
              "    }\n",
              "\n",
              "    [theme=dark] .colab-df-convert:hover {\n",
              "      background-color: #434B5C;\n",
              "      box-shadow: 0px 1px 3px 1px rgba(0, 0, 0, 0.15);\n",
              "      filter: drop-shadow(0px 1px 2px rgba(0, 0, 0, 0.3));\n",
              "      fill: #FFFFFF;\n",
              "    }\n",
              "  </style>\n",
              "\n",
              "      <script>\n",
              "        const buttonEl =\n",
              "          document.querySelector('#df-939f7970-bff6-4af3-9761-2a6de004aa86 button.colab-df-convert');\n",
              "        buttonEl.style.display =\n",
              "          google.colab.kernel.accessAllowed ? 'block' : 'none';\n",
              "\n",
              "        async function convertToInteractive(key) {\n",
              "          const element = document.querySelector('#df-939f7970-bff6-4af3-9761-2a6de004aa86');\n",
              "          const dataTable =\n",
              "            await google.colab.kernel.invokeFunction('convertToInteractive',\n",
              "                                                     [key], {});\n",
              "          if (!dataTable) return;\n",
              "\n",
              "          const docLinkHtml = 'Like what you see? Visit the ' +\n",
              "            '<a target=\"_blank\" href=https://colab.research.google.com/notebooks/data_table.ipynb>data table notebook</a>'\n",
              "            + ' to learn more about interactive tables.';\n",
              "          element.innerHTML = '';\n",
              "          dataTable['output_type'] = 'display_data';\n",
              "          await google.colab.output.renderOutput(dataTable, element);\n",
              "          const docLink = document.createElement('div');\n",
              "          docLink.innerHTML = docLinkHtml;\n",
              "          element.appendChild(docLink);\n",
              "        }\n",
              "      </script>\n",
              "    </div>\n",
              "  </div>\n",
              "  "
            ]
          },
          "metadata": {},
          "execution_count": 5
        }
      ],
      "source": [
        "print(loan_data_defaults.shape)\n",
        "loan_data_defaults.head(2)"
      ]
    },
    {
      "cell_type": "markdown",
      "metadata": {
        "id": "Z-ac3oBu1E7L"
      },
      "source": [
        "# LGD Model"
      ]
    },
    {
      "cell_type": "markdown",
      "metadata": {
        "id": "JP1M2arQ1E7M"
      },
      "source": [
        "### Splitting Data"
      ]
    },
    {
      "cell_type": "code",
      "execution_count": 6,
      "metadata": {
        "id": "lCt5v_Ir1E7O"
      },
      "outputs": [],
      "source": [
        "from sklearn.model_selection import train_test_split"
      ]
    },
    {
      "cell_type": "code",
      "source": [
        "\n",
        "[i for i in loan_data_preprocessed.columns]"
      ],
      "metadata": {
        "colab": {
          "base_uri": "https://localhost:8080/"
        },
        "id": "pX1VIrIp2JJK",
        "outputId": "17096b30-3962-4c62-8516-a67bdd2acc3f"
      },
      "execution_count": 28,
      "outputs": [
        {
          "output_type": "execute_result",
          "data": {
            "text/plain": [
              "['Unnamed: 0',\n",
              " 'id',\n",
              " 'member_id',\n",
              " 'loan_amnt',\n",
              " 'funded_amnt',\n",
              " 'funded_amnt_inv',\n",
              " 'term',\n",
              " 'int_rate',\n",
              " 'installment',\n",
              " 'grade',\n",
              " 'sub_grade',\n",
              " 'emp_title',\n",
              " 'emp_length',\n",
              " 'home_ownership',\n",
              " 'annual_inc',\n",
              " 'verification_status',\n",
              " 'issue_d',\n",
              " 'loan_status',\n",
              " 'pymnt_plan',\n",
              " 'url',\n",
              " 'desc',\n",
              " 'purpose',\n",
              " 'title',\n",
              " 'zip_code',\n",
              " 'addr_state',\n",
              " 'dti',\n",
              " 'delinq_2yrs',\n",
              " 'earliest_cr_line',\n",
              " 'inq_last_6mths',\n",
              " 'mths_since_last_delinq',\n",
              " 'mths_since_last_record',\n",
              " 'open_acc',\n",
              " 'pub_rec',\n",
              " 'revol_bal',\n",
              " 'revol_util',\n",
              " 'total_acc',\n",
              " 'initial_list_status',\n",
              " 'out_prncp',\n",
              " 'out_prncp_inv',\n",
              " 'total_pymnt',\n",
              " 'total_pymnt_inv',\n",
              " 'total_rec_prncp',\n",
              " 'total_rec_int',\n",
              " 'total_rec_late_fee',\n",
              " 'recoveries',\n",
              " 'collection_recovery_fee',\n",
              " 'last_pymnt_d',\n",
              " 'last_pymnt_amnt',\n",
              " 'next_pymnt_d',\n",
              " 'last_credit_pull_d',\n",
              " 'collections_12_mths_ex_med',\n",
              " 'mths_since_last_major_derog',\n",
              " 'policy_code',\n",
              " 'application_type',\n",
              " 'annual_inc_joint',\n",
              " 'dti_joint',\n",
              " 'verification_status_joint',\n",
              " 'acc_now_delinq',\n",
              " 'tot_coll_amt',\n",
              " 'tot_cur_bal',\n",
              " 'open_acc_6m',\n",
              " 'open_il_6m',\n",
              " 'open_il_12m',\n",
              " 'open_il_24m',\n",
              " 'mths_since_rcnt_il',\n",
              " 'total_bal_il',\n",
              " 'il_util',\n",
              " 'open_rv_12m',\n",
              " 'open_rv_24m',\n",
              " 'max_bal_bc',\n",
              " 'all_util',\n",
              " 'total_rev_hi_lim',\n",
              " 'inq_fi',\n",
              " 'total_cu_tl',\n",
              " 'inq_last_12m',\n",
              " 'emp_length_int',\n",
              " 'term_month',\n",
              " 'earliest_cr_line_date',\n",
              " 'months_since_earliest_cr_line',\n",
              " 'issue_d_dates',\n",
              " 'months_since_issue_d',\n",
              " 'grade:A',\n",
              " 'grade:B',\n",
              " 'grade:C',\n",
              " 'grade:D',\n",
              " 'grade:E',\n",
              " 'grade:F',\n",
              " 'grade:G',\n",
              " 'sub_grade:A1',\n",
              " 'sub_grade:A2',\n",
              " 'sub_grade:A3',\n",
              " 'sub_grade:A4',\n",
              " 'sub_grade:A5',\n",
              " 'sub_grade:B1',\n",
              " 'sub_grade:B2',\n",
              " 'sub_grade:B3',\n",
              " 'sub_grade:B4',\n",
              " 'sub_grade:B5',\n",
              " 'sub_grade:C1',\n",
              " 'sub_grade:C2',\n",
              " 'sub_grade:C3',\n",
              " 'sub_grade:C4',\n",
              " 'sub_grade:C5',\n",
              " 'sub_grade:D1',\n",
              " 'sub_grade:D2',\n",
              " 'sub_grade:D3',\n",
              " 'sub_grade:D4',\n",
              " 'sub_grade:D5',\n",
              " 'sub_grade:E1',\n",
              " 'sub_grade:E2',\n",
              " 'sub_grade:E3',\n",
              " 'sub_grade:E4',\n",
              " 'sub_grade:E5',\n",
              " 'sub_grade:F1',\n",
              " 'sub_grade:F2',\n",
              " 'sub_grade:F3',\n",
              " 'sub_grade:F4',\n",
              " 'sub_grade:F5',\n",
              " 'sub_grade:G1',\n",
              " 'sub_grade:G2',\n",
              " 'sub_grade:G3',\n",
              " 'sub_grade:G4',\n",
              " 'sub_grade:G5',\n",
              " 'home_ownership:ANY',\n",
              " 'home_ownership:MORTGAGE',\n",
              " 'home_ownership:NONE',\n",
              " 'home_ownership:OTHER',\n",
              " 'home_ownership:OWN',\n",
              " 'home_ownership:RENT',\n",
              " 'verification_status:Not Verified',\n",
              " 'verification_status:Source Verified',\n",
              " 'verification_status:Verified',\n",
              " 'loan_status:Charged Off',\n",
              " 'loan_status:Current',\n",
              " 'loan_status:Default',\n",
              " 'loan_status:Does not meet the credit policy. Status:Charged Off',\n",
              " 'loan_status:Does not meet the credit policy. Status:Fully Paid',\n",
              " 'loan_status:Fully Paid',\n",
              " 'loan_status:In Grace Period',\n",
              " 'loan_status:Late (16-30 days)',\n",
              " 'loan_status:Late (31-120 days)',\n",
              " 'purpose:car',\n",
              " 'purpose:credit_card',\n",
              " 'purpose:debt_consolidation',\n",
              " 'purpose:educational',\n",
              " 'purpose:home_improvement',\n",
              " 'purpose:house',\n",
              " 'purpose:major_purchase',\n",
              " 'purpose:medical',\n",
              " 'purpose:moving',\n",
              " 'purpose:other',\n",
              " 'purpose:renewable_energy',\n",
              " 'purpose:small_business',\n",
              " 'purpose:vacation',\n",
              " 'purpose:wedding',\n",
              " 'addr_state:AK',\n",
              " 'addr_state:AL',\n",
              " 'addr_state:AR',\n",
              " 'addr_state:AZ',\n",
              " 'addr_state:CA',\n",
              " 'addr_state:CO',\n",
              " 'addr_state:CT',\n",
              " 'addr_state:DC',\n",
              " 'addr_state:DE',\n",
              " 'addr_state:FL',\n",
              " 'addr_state:GA',\n",
              " 'addr_state:HI',\n",
              " 'addr_state:IA',\n",
              " 'addr_state:ID',\n",
              " 'addr_state:IL',\n",
              " 'addr_state:IN',\n",
              " 'addr_state:KS',\n",
              " 'addr_state:KY',\n",
              " 'addr_state:LA',\n",
              " 'addr_state:MA',\n",
              " 'addr_state:MD',\n",
              " 'addr_state:ME',\n",
              " 'addr_state:MI',\n",
              " 'addr_state:MN',\n",
              " 'addr_state:MO',\n",
              " 'addr_state:MS',\n",
              " 'addr_state:MT',\n",
              " 'addr_state:NC',\n",
              " 'addr_state:NE',\n",
              " 'addr_state:NH',\n",
              " 'addr_state:NJ',\n",
              " 'addr_state:NM',\n",
              " 'addr_state:NV',\n",
              " 'addr_state:NY',\n",
              " 'addr_state:OH',\n",
              " 'addr_state:OK',\n",
              " 'addr_state:OR',\n",
              " 'addr_state:PA',\n",
              " 'addr_state:RI',\n",
              " 'addr_state:SC',\n",
              " 'addr_state:SD',\n",
              " 'addr_state:TN',\n",
              " 'addr_state:TX',\n",
              " 'addr_state:UT',\n",
              " 'addr_state:VA',\n",
              " 'addr_state:VT',\n",
              " 'addr_state:WA',\n",
              " 'addr_state:WI',\n",
              " 'addr_state:WV',\n",
              " 'addr_state:WY',\n",
              " 'initial_list_status:f',\n",
              " 'initial_list_status:w']"
            ]
          },
          "metadata": {},
          "execution_count": 28
        }
      ]
    },
    {
      "cell_type": "code",
      "source": [
        "[i for i in loan_data_defaults.columns]"
      ],
      "metadata": {
        "colab": {
          "base_uri": "https://localhost:8080/"
        },
        "id": "LD2cseRu15Jz",
        "outputId": "1baa77f7-a736-42fd-f2cf-72193621301e"
      },
      "execution_count": 27,
      "outputs": [
        {
          "output_type": "execute_result",
          "data": {
            "text/plain": [
              "['Unnamed: 0',\n",
              " 'Unnamed: 0.1',\n",
              " 'id',\n",
              " 'member_id',\n",
              " 'loan_amnt',\n",
              " 'funded_amnt',\n",
              " 'funded_amnt_inv',\n",
              " 'term',\n",
              " 'int_rate',\n",
              " 'installment',\n",
              " 'grade',\n",
              " 'sub_grade',\n",
              " 'emp_title',\n",
              " 'emp_length',\n",
              " 'home_ownership',\n",
              " 'annual_inc',\n",
              " 'verification_status',\n",
              " 'issue_d',\n",
              " 'loan_status',\n",
              " 'pymnt_plan',\n",
              " 'url',\n",
              " 'desc',\n",
              " 'purpose',\n",
              " 'title',\n",
              " 'zip_code',\n",
              " 'addr_state',\n",
              " 'dti',\n",
              " 'delinq_2yrs',\n",
              " 'earliest_cr_line',\n",
              " 'inq_last_6mths',\n",
              " 'mths_since_last_delinq',\n",
              " 'mths_since_last_record',\n",
              " 'open_acc',\n",
              " 'pub_rec',\n",
              " 'revol_bal',\n",
              " 'revol_util',\n",
              " 'total_acc',\n",
              " 'initial_list_status',\n",
              " 'out_prncp',\n",
              " 'out_prncp_inv',\n",
              " 'total_pymnt',\n",
              " 'total_pymnt_inv',\n",
              " 'total_rec_prncp',\n",
              " 'total_rec_int',\n",
              " 'total_rec_late_fee',\n",
              " 'recoveries',\n",
              " 'collection_recovery_fee',\n",
              " 'last_pymnt_d',\n",
              " 'last_pymnt_amnt',\n",
              " 'next_pymnt_d',\n",
              " 'last_credit_pull_d',\n",
              " 'collections_12_mths_ex_med',\n",
              " 'mths_since_last_major_derog',\n",
              " 'policy_code',\n",
              " 'application_type',\n",
              " 'annual_inc_joint',\n",
              " 'dti_joint',\n",
              " 'verification_status_joint',\n",
              " 'acc_now_delinq',\n",
              " 'tot_coll_amt',\n",
              " 'tot_cur_bal',\n",
              " 'open_acc_6m',\n",
              " 'open_il_6m',\n",
              " 'open_il_12m',\n",
              " 'open_il_24m',\n",
              " 'mths_since_rcnt_il',\n",
              " 'total_bal_il',\n",
              " 'il_util',\n",
              " 'open_rv_12m',\n",
              " 'open_rv_24m',\n",
              " 'max_bal_bc',\n",
              " 'all_util',\n",
              " 'total_rev_hi_lim',\n",
              " 'inq_fi',\n",
              " 'total_cu_tl',\n",
              " 'inq_last_12m',\n",
              " 'emp_length_int',\n",
              " 'term_month',\n",
              " 'earliest_cr_line_date',\n",
              " 'months_since_earliest_cr_line',\n",
              " 'issue_d_dates',\n",
              " 'months_since_issue_d',\n",
              " 'grade:A',\n",
              " 'grade:B',\n",
              " 'grade:C',\n",
              " 'grade:D',\n",
              " 'grade:E',\n",
              " 'grade:F',\n",
              " 'grade:G',\n",
              " 'sub_grade:A1',\n",
              " 'sub_grade:A2',\n",
              " 'sub_grade:A3',\n",
              " 'sub_grade:A4',\n",
              " 'sub_grade:A5',\n",
              " 'sub_grade:B1',\n",
              " 'sub_grade:B2',\n",
              " 'sub_grade:B3',\n",
              " 'sub_grade:B4',\n",
              " 'sub_grade:B5',\n",
              " 'sub_grade:C1',\n",
              " 'sub_grade:C2',\n",
              " 'sub_grade:C3',\n",
              " 'sub_grade:C4',\n",
              " 'sub_grade:C5',\n",
              " 'sub_grade:D1',\n",
              " 'sub_grade:D2',\n",
              " 'sub_grade:D3',\n",
              " 'sub_grade:D4',\n",
              " 'sub_grade:D5',\n",
              " 'sub_grade:E1',\n",
              " 'sub_grade:E2',\n",
              " 'sub_grade:E3',\n",
              " 'sub_grade:E4',\n",
              " 'sub_grade:E5',\n",
              " 'sub_grade:F1',\n",
              " 'sub_grade:F2',\n",
              " 'sub_grade:F3',\n",
              " 'sub_grade:F4',\n",
              " 'sub_grade:F5',\n",
              " 'sub_grade:G1',\n",
              " 'sub_grade:G2',\n",
              " 'sub_grade:G3',\n",
              " 'sub_grade:G4',\n",
              " 'sub_grade:G5',\n",
              " 'home_ownership:ANY',\n",
              " 'home_ownership:MORTGAGE',\n",
              " 'home_ownership:NONE',\n",
              " 'home_ownership:OTHER',\n",
              " 'home_ownership:OWN',\n",
              " 'home_ownership:RENT',\n",
              " 'verification_status:Not Verified',\n",
              " 'verification_status:Source Verified',\n",
              " 'verification_status:Verified',\n",
              " 'loan_status:Charged Off',\n",
              " 'loan_status:Current',\n",
              " 'loan_status:Default',\n",
              " 'loan_status:Does not meet the credit policy. Status:Charged Off',\n",
              " 'loan_status:Does not meet the credit policy. Status:Fully Paid',\n",
              " 'loan_status:Fully Paid',\n",
              " 'loan_status:In Grace Period',\n",
              " 'loan_status:Late (16-30 days)',\n",
              " 'loan_status:Late (31-120 days)',\n",
              " 'purpose:car',\n",
              " 'purpose:credit_card',\n",
              " 'purpose:debt_consolidation',\n",
              " 'purpose:educational',\n",
              " 'purpose:home_improvement',\n",
              " 'purpose:house',\n",
              " 'purpose:major_purchase',\n",
              " 'purpose:medical',\n",
              " 'purpose:moving',\n",
              " 'purpose:other',\n",
              " 'purpose:renewable_energy',\n",
              " 'purpose:small_business',\n",
              " 'purpose:vacation',\n",
              " 'purpose:wedding',\n",
              " 'addr_state:AK',\n",
              " 'addr_state:AL',\n",
              " 'addr_state:AR',\n",
              " 'addr_state:AZ',\n",
              " 'addr_state:CA',\n",
              " 'addr_state:CO',\n",
              " 'addr_state:CT',\n",
              " 'addr_state:DC',\n",
              " 'addr_state:DE',\n",
              " 'addr_state:FL',\n",
              " 'addr_state:GA',\n",
              " 'addr_state:HI',\n",
              " 'addr_state:IA',\n",
              " 'addr_state:ID',\n",
              " 'addr_state:IL',\n",
              " 'addr_state:IN',\n",
              " 'addr_state:KS',\n",
              " 'addr_state:KY',\n",
              " 'addr_state:LA',\n",
              " 'addr_state:MA',\n",
              " 'addr_state:MD',\n",
              " 'addr_state:ME',\n",
              " 'addr_state:MI',\n",
              " 'addr_state:MN',\n",
              " 'addr_state:MO',\n",
              " 'addr_state:MS',\n",
              " 'addr_state:MT',\n",
              " 'addr_state:NC',\n",
              " 'addr_state:NE',\n",
              " 'addr_state:NH',\n",
              " 'addr_state:NJ',\n",
              " 'addr_state:NM',\n",
              " 'addr_state:NV',\n",
              " 'addr_state:NY',\n",
              " 'addr_state:OH',\n",
              " 'addr_state:OK',\n",
              " 'addr_state:OR',\n",
              " 'addr_state:PA',\n",
              " 'addr_state:RI',\n",
              " 'addr_state:SC',\n",
              " 'addr_state:SD',\n",
              " 'addr_state:TN',\n",
              " 'addr_state:TX',\n",
              " 'addr_state:UT',\n",
              " 'addr_state:VA',\n",
              " 'addr_state:VT',\n",
              " 'addr_state:WA',\n",
              " 'addr_state:WI',\n",
              " 'addr_state:WV',\n",
              " 'addr_state:WY',\n",
              " 'initial_list_status:f',\n",
              " 'initial_list_status:w',\n",
              " 'recovery_rate',\n",
              " 'CCF',\n",
              " 'recovery_rate_0_1']"
            ]
          },
          "metadata": {},
          "execution_count": 27
        }
      ]
    },
    {
      "cell_type": "code",
      "execution_count": 29,
      "metadata": {
        "id": "AI1OF4AF1E7R"
      },
      "outputs": [],
      "source": [
        "\"\"\"# LGD model stage 1 datasets: recovery rate 0 or greater than 0.\n",
        "lgd_inputs_stage_1_train, lgd_inputs_stage_1_test, lgd_targets_stage_1_train, lgd_targets_stage_1_test = train_test_split(loan_data_defaults.drop(['good_bad', 'recovery_rate','recovery_rate_0_1', 'CCF'], axis = 1), loan_data_defaults['recovery_rate_0_1'], test_size = 0.2, random_state = 42)\n",
        "# Takes a set of inputs and a set of targets as arguments. Splits the inputs and the targets into four dataframes:\n",
        "# Inputs - Train, Inputs - Test, Targets - Train, Targets - Test.\"\"\"\n",
        "\n",
        "# LGD model stage 1 datasets: recovery rate 0 or greater than 0.\n",
        "lgd_inputs_stage_1_train, lgd_inputs_stage_1_test, lgd_targets_stage_1_train, lgd_targets_stage_1_test = train_test_split(loan_data_defaults.drop([ 'recovery_rate','recovery_rate_0_1', 'CCF'], axis = 1), loan_data_defaults['recovery_rate_0_1'], test_size = 0.2, random_state = 42)\n",
        "# Takes a set of inputs and a set of targets as arguments. Splits the inputs and the targets into four dataframes:\n",
        "# Inputs - Train, Inputs - Test, Targets - Train, Targets - Test."
      ]
    },
    {
      "cell_type": "markdown",
      "metadata": {
        "id": "znm22eD_1E7S"
      },
      "source": [
        "### Preparing the Inputs"
      ]
    },
    {
      "cell_type": "code",
      "execution_count": 30,
      "metadata": {
        "id": "hLDvTS3g1E7U"
      },
      "outputs": [],
      "source": [
        "features_all = ['grade:A',\n",
        "'grade:B',\n",
        "'grade:C',\n",
        "'grade:D',\n",
        "'grade:E',\n",
        "'grade:F',\n",
        "'grade:G',\n",
        "'home_ownership:MORTGAGE',\n",
        "'home_ownership:NONE',\n",
        "'home_ownership:OTHER',\n",
        "'home_ownership:OWN',\n",
        "'home_ownership:RENT',\n",
        "'verification_status:Not Verified',\n",
        "'verification_status:Source Verified',\n",
        "'verification_status:Verified',\n",
        "'purpose:car',\n",
        "'purpose:credit_card',\n",
        "'purpose:debt_consolidation',\n",
        "'purpose:educational',\n",
        "'purpose:home_improvement',\n",
        "'purpose:house',\n",
        "'purpose:major_purchase',\n",
        "'purpose:medical',\n",
        "'purpose:moving',\n",
        "'purpose:other',\n",
        "'purpose:renewable_energy',\n",
        "'purpose:small_business',\n",
        "'purpose:vacation',\n",
        "'purpose:wedding',\n",
        "'initial_list_status:f',\n",
        "'initial_list_status:w',\n",
        "'term_int',\n",
        "'emp_length_int',\n",
        "'mths_since_issue_d',\n",
        "'mths_since_earliest_cr_line',\n",
        "'funded_amnt',\n",
        "'int_rate',\n",
        "'installment',\n",
        "'annual_inc',\n",
        "'dti',\n",
        "'delinq_2yrs',\n",
        "'inq_last_6mths',\n",
        "'mths_since_last_delinq',\n",
        "'mths_since_last_record',\n",
        "'open_acc',\n",
        "'pub_rec',\n",
        "'total_acc',\n",
        "'acc_now_delinq',\n",
        "'total_rev_hi_lim']\n",
        "# List of all independent variables for the models."
      ]
    },
    {
      "cell_type": "code",
      "execution_count": 31,
      "metadata": {
        "id": "jZE4VUY61E7W"
      },
      "outputs": [],
      "source": [
        "features_reference_cat = ['grade:G',\n",
        "'home_ownership:RENT',\n",
        "'verification_status:Verified',\n",
        "'purpose:credit_card',\n",
        "'initial_list_status:f']\n",
        "# List of the dummy variable reference categories. "
      ]
    },
    {
      "cell_type": "code",
      "execution_count": 32,
      "metadata": {
        "colab": {
          "base_uri": "https://localhost:8080/",
          "height": 328
        },
        "id": "3x-jrjNF1E7X",
        "outputId": "56b9c03e-24e6-4037-a55c-746e60f749c6"
      },
      "outputs": [
        {
          "output_type": "error",
          "ename": "KeyError",
          "evalue": "ignored",
          "traceback": [
            "\u001b[0;31m---------------------------------------------------------------------------\u001b[0m",
            "\u001b[0;31mKeyError\u001b[0m                                  Traceback (most recent call last)",
            "\u001b[0;32m<ipython-input-32-284f327bfa89>\u001b[0m in \u001b[0;36m<module>\u001b[0;34m\u001b[0m\n\u001b[0;32m----> 1\u001b[0;31m \u001b[0mlgd_inputs_stage_1_train\u001b[0m \u001b[0;34m=\u001b[0m \u001b[0mlgd_inputs_stage_1_train\u001b[0m\u001b[0;34m[\u001b[0m\u001b[0mfeatures_all\u001b[0m\u001b[0;34m]\u001b[0m\u001b[0;34m\u001b[0m\u001b[0;34m\u001b[0m\u001b[0m\n\u001b[0m\u001b[1;32m      2\u001b[0m \u001b[0;31m# Here we keep only the variables we need for the model.\u001b[0m\u001b[0;34m\u001b[0m\u001b[0;34m\u001b[0m\u001b[0;34m\u001b[0m\u001b[0m\n",
            "\u001b[0;32m/usr/local/lib/python3.7/dist-packages/pandas/core/frame.py\u001b[0m in \u001b[0;36m__getitem__\u001b[0;34m(self, key)\u001b[0m\n\u001b[1;32m   3462\u001b[0m             \u001b[0;32mif\u001b[0m \u001b[0mis_iterator\u001b[0m\u001b[0;34m(\u001b[0m\u001b[0mkey\u001b[0m\u001b[0;34m)\u001b[0m\u001b[0;34m:\u001b[0m\u001b[0;34m\u001b[0m\u001b[0;34m\u001b[0m\u001b[0m\n\u001b[1;32m   3463\u001b[0m                 \u001b[0mkey\u001b[0m \u001b[0;34m=\u001b[0m \u001b[0mlist\u001b[0m\u001b[0;34m(\u001b[0m\u001b[0mkey\u001b[0m\u001b[0;34m)\u001b[0m\u001b[0;34m\u001b[0m\u001b[0;34m\u001b[0m\u001b[0m\n\u001b[0;32m-> 3464\u001b[0;31m             \u001b[0mindexer\u001b[0m \u001b[0;34m=\u001b[0m \u001b[0mself\u001b[0m\u001b[0;34m.\u001b[0m\u001b[0mloc\u001b[0m\u001b[0;34m.\u001b[0m\u001b[0m_get_listlike_indexer\u001b[0m\u001b[0;34m(\u001b[0m\u001b[0mkey\u001b[0m\u001b[0;34m,\u001b[0m \u001b[0maxis\u001b[0m\u001b[0;34m=\u001b[0m\u001b[0;36m1\u001b[0m\u001b[0;34m)\u001b[0m\u001b[0;34m[\u001b[0m\u001b[0;36m1\u001b[0m\u001b[0;34m]\u001b[0m\u001b[0;34m\u001b[0m\u001b[0;34m\u001b[0m\u001b[0m\n\u001b[0m\u001b[1;32m   3465\u001b[0m \u001b[0;34m\u001b[0m\u001b[0m\n\u001b[1;32m   3466\u001b[0m         \u001b[0;31m# take() does not accept boolean indexers\u001b[0m\u001b[0;34m\u001b[0m\u001b[0;34m\u001b[0m\u001b[0;34m\u001b[0m\u001b[0m\n",
            "\u001b[0;32m/usr/local/lib/python3.7/dist-packages/pandas/core/indexing.py\u001b[0m in \u001b[0;36m_get_listlike_indexer\u001b[0;34m(self, key, axis)\u001b[0m\n\u001b[1;32m   1312\u001b[0m             \u001b[0mkeyarr\u001b[0m\u001b[0;34m,\u001b[0m \u001b[0mindexer\u001b[0m\u001b[0;34m,\u001b[0m \u001b[0mnew_indexer\u001b[0m \u001b[0;34m=\u001b[0m \u001b[0max\u001b[0m\u001b[0;34m.\u001b[0m\u001b[0m_reindex_non_unique\u001b[0m\u001b[0;34m(\u001b[0m\u001b[0mkeyarr\u001b[0m\u001b[0;34m)\u001b[0m\u001b[0;34m\u001b[0m\u001b[0;34m\u001b[0m\u001b[0m\n\u001b[1;32m   1313\u001b[0m \u001b[0;34m\u001b[0m\u001b[0m\n\u001b[0;32m-> 1314\u001b[0;31m         \u001b[0mself\u001b[0m\u001b[0;34m.\u001b[0m\u001b[0m_validate_read_indexer\u001b[0m\u001b[0;34m(\u001b[0m\u001b[0mkeyarr\u001b[0m\u001b[0;34m,\u001b[0m \u001b[0mindexer\u001b[0m\u001b[0;34m,\u001b[0m \u001b[0maxis\u001b[0m\u001b[0;34m)\u001b[0m\u001b[0;34m\u001b[0m\u001b[0;34m\u001b[0m\u001b[0m\n\u001b[0m\u001b[1;32m   1315\u001b[0m \u001b[0;34m\u001b[0m\u001b[0m\n\u001b[1;32m   1316\u001b[0m         if needs_i8_conversion(ax.dtype) or isinstance(\n",
            "\u001b[0;32m/usr/local/lib/python3.7/dist-packages/pandas/core/indexing.py\u001b[0m in \u001b[0;36m_validate_read_indexer\u001b[0;34m(self, key, indexer, axis)\u001b[0m\n\u001b[1;32m   1375\u001b[0m \u001b[0;34m\u001b[0m\u001b[0m\n\u001b[1;32m   1376\u001b[0m             \u001b[0mnot_found\u001b[0m \u001b[0;34m=\u001b[0m \u001b[0mlist\u001b[0m\u001b[0;34m(\u001b[0m\u001b[0mensure_index\u001b[0m\u001b[0;34m(\u001b[0m\u001b[0mkey\u001b[0m\u001b[0;34m)\u001b[0m\u001b[0;34m[\u001b[0m\u001b[0mmissing_mask\u001b[0m\u001b[0;34m.\u001b[0m\u001b[0mnonzero\u001b[0m\u001b[0;34m(\u001b[0m\u001b[0;34m)\u001b[0m\u001b[0;34m[\u001b[0m\u001b[0;36m0\u001b[0m\u001b[0;34m]\u001b[0m\u001b[0;34m]\u001b[0m\u001b[0;34m.\u001b[0m\u001b[0munique\u001b[0m\u001b[0;34m(\u001b[0m\u001b[0;34m)\u001b[0m\u001b[0;34m)\u001b[0m\u001b[0;34m\u001b[0m\u001b[0;34m\u001b[0m\u001b[0m\n\u001b[0;32m-> 1377\u001b[0;31m             \u001b[0;32mraise\u001b[0m \u001b[0mKeyError\u001b[0m\u001b[0;34m(\u001b[0m\u001b[0;34mf\"{not_found} not in index\"\u001b[0m\u001b[0;34m)\u001b[0m\u001b[0;34m\u001b[0m\u001b[0;34m\u001b[0m\u001b[0m\n\u001b[0m\u001b[1;32m   1378\u001b[0m \u001b[0;34m\u001b[0m\u001b[0m\n\u001b[1;32m   1379\u001b[0m \u001b[0;34m\u001b[0m\u001b[0m\n",
            "\u001b[0;31mKeyError\u001b[0m: \"['term_int', 'mths_since_issue_d', 'mths_since_earliest_cr_line'] not in index\""
          ]
        }
      ],
      "source": [
        "lgd_inputs_stage_1_train = lgd_inputs_stage_1_train[features_all]\n",
        "# Here we keep only the variables we need for the model."
      ]
    },
    {
      "cell_type": "code",
      "execution_count": null,
      "metadata": {
        "id": "8PtPleoL1E7Y"
      },
      "outputs": [],
      "source": [
        "lgd_inputs_stage_1_train = lgd_inputs_stage_1_train.drop(features_reference_cat, axis = 1)\n",
        "# Here we remove the dummy variable reference categories.\n",
        "\n",
        "print(lgd_inputs_stage_1_train.shape)"
      ]
    },
    {
      "cell_type": "code",
      "execution_count": 11,
      "metadata": {
        "colab": {
          "base_uri": "https://localhost:8080/",
          "height": 200
        },
        "id": "nWa8Zfis1E7Z",
        "outputId": "1e63db47-c812-4923-c764-613775b0eaae"
      },
      "outputs": [
        {
          "output_type": "error",
          "ename": "NameError",
          "evalue": "ignored",
          "traceback": [
            "\u001b[0;31m---------------------------------------------------------------------------\u001b[0m",
            "\u001b[0;31mNameError\u001b[0m                                 Traceback (most recent call last)",
            "\u001b[0;32m<ipython-input-11-8a447c7d7f16>\u001b[0m in \u001b[0;36m<module>\u001b[0;34m\u001b[0m\n\u001b[0;32m----> 1\u001b[0;31m \u001b[0mlgd_inputs_stage_1_train\u001b[0m\u001b[0;34m.\u001b[0m\u001b[0misnull\u001b[0m\u001b[0;34m(\u001b[0m\u001b[0;34m)\u001b[0m\u001b[0;34m.\u001b[0m\u001b[0msum\u001b[0m\u001b[0;34m(\u001b[0m\u001b[0;34m)\u001b[0m\u001b[0;34m\u001b[0m\u001b[0;34m\u001b[0m\u001b[0m\n\u001b[0m\u001b[1;32m      2\u001b[0m \u001b[0;31m# Check for missing values. We check whether the value of each row for each column is missing or not,\u001b[0m\u001b[0;34m\u001b[0m\u001b[0;34m\u001b[0m\u001b[0;34m\u001b[0m\u001b[0m\n\u001b[1;32m      3\u001b[0m \u001b[0;31m# then sum accross columns.\u001b[0m\u001b[0;34m\u001b[0m\u001b[0;34m\u001b[0m\u001b[0;34m\u001b[0m\u001b[0m\n",
            "\u001b[0;31mNameError\u001b[0m: name 'lgd_inputs_stage_1_train' is not defined"
          ]
        }
      ],
      "source": [
        "lgd_inputs_stage_1_train.isnull().sum()\n",
        "# Check for missing values. We check whether the value of each row for each column is missing or not,\n",
        "# then sum accross columns."
      ]
    },
    {
      "cell_type": "markdown",
      "metadata": {
        "id": "2A9mONBh1E7b"
      },
      "source": [
        "### Estimating the Model"
      ]
    },
    {
      "cell_type": "markdown",
      "metadata": {
        "id": "6ChUWcdx1E7c"
      },
      "source": [
        "### Stage 1"
      ]
    },
    {
      "cell_type": "code",
      "execution_count": 12,
      "metadata": {
        "id": "wHhFFPjR1E7d"
      },
      "outputs": [],
      "source": [
        "# P values for sklearn logistic regression.\n",
        "\n",
        "# Class to display p-values for logistic regression in sklearn.\n",
        "\n",
        "from sklearn import linear_model\n",
        "import scipy.stats as stat\n",
        "\n",
        "class LogisticRegression_with_p_values:\n",
        "    \n",
        "    def __init__(self,*args,**kwargs):#,**kwargs):\n",
        "        self.model = linear_model.LogisticRegression(*args,**kwargs)#,**args)\n",
        "\n",
        "    def fit(self,X,y):\n",
        "        self.model.fit(X,y)\n",
        "        \n",
        "        #### Get p-values for the fitted model ####\n",
        "        denom = (2.0 * (1.0 + np.cosh(self.model.decision_function(X))))\n",
        "        denom = np.tile(denom,(X.shape[1],1)).T\n",
        "        F_ij = np.dot((X / denom).T,X) ## Fisher Information Matrix\n",
        "        Cramer_Rao = np.linalg.inv(F_ij) ## Inverse Information Matrix\n",
        "        sigma_estimates = np.sqrt(np.diagonal(Cramer_Rao))\n",
        "        z_scores = self.model.coef_[0] / sigma_estimates # z-score for eaach model coefficient\n",
        "        p_values = [stat.norm.sf(abs(x)) * 2 for x in z_scores] ### two tailed test for p-values\n",
        "        \n",
        "        self.coef_ = self.model.coef_\n",
        "        self.intercept_ = self.model.intercept_\n",
        "        #self.z_scores = z_scores\n",
        "        self.p_values = p_values\n",
        "        #self.sigma_estimates = sigma_estimates\n",
        "        #self.F_ij = F_ij"
      ]
    },
    {
      "cell_type": "code",
      "execution_count": 13,
      "metadata": {
        "colab": {
          "base_uri": "https://localhost:8080/",
          "height": 235
        },
        "id": "dj5Ny0DQ1E7e",
        "outputId": "8a871cd6-d53d-4dbc-d29d-0722c6d8961b"
      },
      "outputs": [
        {
          "output_type": "error",
          "ename": "NameError",
          "evalue": "ignored",
          "traceback": [
            "\u001b[0;31m---------------------------------------------------------------------------\u001b[0m",
            "\u001b[0;31mNameError\u001b[0m                                 Traceback (most recent call last)",
            "\u001b[0;32m<ipython-input-13-9179eea841c9>\u001b[0m in \u001b[0;36m<module>\u001b[0;34m\u001b[0m\n\u001b[1;32m      1\u001b[0m \u001b[0mreg_lgd_st_1\u001b[0m \u001b[0;34m=\u001b[0m \u001b[0mLogisticRegression_with_p_values\u001b[0m\u001b[0;34m(\u001b[0m\u001b[0;34m)\u001b[0m\u001b[0;34m\u001b[0m\u001b[0;34m\u001b[0m\u001b[0m\n\u001b[1;32m      2\u001b[0m \u001b[0;31m# We create an instance of an object from the 'LogisticRegression' class.\u001b[0m\u001b[0;34m\u001b[0m\u001b[0;34m\u001b[0m\u001b[0;34m\u001b[0m\u001b[0m\n\u001b[0;32m----> 3\u001b[0;31m \u001b[0mreg_lgd_st_1\u001b[0m\u001b[0;34m.\u001b[0m\u001b[0mfit\u001b[0m\u001b[0;34m(\u001b[0m\u001b[0mlgd_inputs_stage_1_train\u001b[0m\u001b[0;34m,\u001b[0m \u001b[0mlgd_targets_stage_1_train\u001b[0m\u001b[0;34m)\u001b[0m\u001b[0;34m\u001b[0m\u001b[0;34m\u001b[0m\u001b[0m\n\u001b[0m\u001b[1;32m      4\u001b[0m \u001b[0;31m# Estimates the coefficients of the object from the 'LogisticRegression' class\u001b[0m\u001b[0;34m\u001b[0m\u001b[0;34m\u001b[0m\u001b[0;34m\u001b[0m\u001b[0m\n\u001b[1;32m      5\u001b[0m \u001b[0;31m# with inputs (independent variables) contained in the first dataframe\u001b[0m\u001b[0;34m\u001b[0m\u001b[0;34m\u001b[0m\u001b[0;34m\u001b[0m\u001b[0m\n",
            "\u001b[0;31mNameError\u001b[0m: name 'lgd_inputs_stage_1_train' is not defined"
          ]
        }
      ],
      "source": [
        "reg_lgd_st_1 = LogisticRegression_with_p_values()\n",
        "# We create an instance of an object from the 'LogisticRegression' class.\n",
        "reg_lgd_st_1.fit(lgd_inputs_stage_1_train, lgd_targets_stage_1_train)\n",
        "# Estimates the coefficients of the object from the 'LogisticRegression' class\n",
        "# with inputs (independent variables) contained in the first dataframe\n",
        "# and targets (dependent variables) contained in the second dataframe."
      ]
    },
    {
      "cell_type": "code",
      "execution_count": 14,
      "metadata": {
        "colab": {
          "base_uri": "https://localhost:8080/",
          "height": 200
        },
        "id": "2AqvMLpk1E7m",
        "outputId": "bc27f55d-36a1-4238-d708-acb3a7a5d431"
      },
      "outputs": [
        {
          "output_type": "error",
          "ename": "NameError",
          "evalue": "ignored",
          "traceback": [
            "\u001b[0;31m---------------------------------------------------------------------------\u001b[0m",
            "\u001b[0;31mNameError\u001b[0m                                 Traceback (most recent call last)",
            "\u001b[0;32m<ipython-input-14-f71a323f4001>\u001b[0m in \u001b[0;36m<module>\u001b[0;34m\u001b[0m\n\u001b[0;32m----> 1\u001b[0;31m \u001b[0mfeature_name\u001b[0m \u001b[0;34m=\u001b[0m \u001b[0mlgd_inputs_stage_1_train\u001b[0m\u001b[0;34m.\u001b[0m\u001b[0mcolumns\u001b[0m\u001b[0;34m.\u001b[0m\u001b[0mvalues\u001b[0m\u001b[0;34m\u001b[0m\u001b[0;34m\u001b[0m\u001b[0m\n\u001b[0m\u001b[1;32m      2\u001b[0m \u001b[0;31m# Stores the names of the columns of a dataframe in a variable.\u001b[0m\u001b[0;34m\u001b[0m\u001b[0;34m\u001b[0m\u001b[0;34m\u001b[0m\u001b[0m\n\u001b[1;32m      3\u001b[0m \u001b[0mprint\u001b[0m\u001b[0;34m(\u001b[0m\u001b[0mfeature_name\u001b[0m\u001b[0;34m)\u001b[0m\u001b[0;34m\u001b[0m\u001b[0;34m\u001b[0m\u001b[0m\n",
            "\u001b[0;31mNameError\u001b[0m: name 'lgd_inputs_stage_1_train' is not defined"
          ]
        }
      ],
      "source": [
        "feature_name = lgd_inputs_stage_1_train.columns.values\n",
        "# Stores the names of the columns of a dataframe in a variable.\n",
        "print(feature_name)"
      ]
    },
    {
      "cell_type": "code",
      "execution_count": null,
      "metadata": {
        "id": "HWrHw7hW1E7q"
      },
      "outputs": [],
      "source": [
        "summary_table = pd.DataFrame(columns = ['Feature name'], data = feature_name)\n",
        "# Creates a dataframe with a column titled 'Feature name' and row values contained in the 'feature_name' variable.\n",
        "summary_table['Coefficients'] = np.transpose(reg_lgd_st_1.coef_)\n",
        "# Creates a new column in the dataframe, called 'Coefficients',\n",
        "# with row values the transposed coefficients from the 'LogisticRegression' object.\n",
        "summary_table.index = summary_table.index + 1\n",
        "# Increases the index of every row of the dataframe with 1.\n",
        "summary_table.loc[0] = ['Intercept', reg_lgd_st_1.intercept_[0]]\n",
        "# Assigns values of the row with index 0 of the dataframe.\n",
        "summary_table = summary_table.sort_index()\n",
        "# Sorts the dataframe by index.\n",
        "p_values = reg_lgd_st_1.p_values\n",
        "# We take the result of the newly added method 'p_values' and store it in a variable 'p_values'.\n",
        "p_values = np.append(np.nan,np.array(p_values))\n",
        "# We add the value 'NaN' in the beginning of the variable with p-values.\n",
        "summary_table['p_values'] = p_values\n",
        "# In the 'summary_table' dataframe, we add a new column, called 'p_values', containing the values from the 'p_values' variable.\n",
        "summary_table"
      ]
    },
    {
      "cell_type": "markdown",
      "metadata": {
        "id": "p3mMT7ea1E7t"
      },
      "source": [
        "### Testing the Model"
      ]
    },
    {
      "cell_type": "code",
      "execution_count": null,
      "metadata": {
        "id": "hspFWd2o1E7v"
      },
      "outputs": [],
      "source": [
        "lgd_inputs_stage_1_test = lgd_inputs_stage_1_test[features_all]\n",
        "# Here we keep only the variables we need for the model."
      ]
    },
    {
      "cell_type": "code",
      "execution_count": null,
      "metadata": {
        "id": "SNIgX91r1E7w"
      },
      "outputs": [],
      "source": [
        "lgd_inputs_stage_1_test = lgd_inputs_stage_1_test.drop(features_reference_cat, axis = 1)\n",
        "# Here we remove the dummy variable reference categories."
      ]
    },
    {
      "cell_type": "code",
      "execution_count": null,
      "metadata": {
        "id": "2zC9lGv31E7w"
      },
      "outputs": [],
      "source": [
        "y_hat_test_lgd_stage_1 = reg_lgd_st_1.model.predict(lgd_inputs_stage_1_test)\n",
        "# Calculates the predicted values for the dependent variable (targets)\n",
        "# based on the values of the independent variables (inputs) supplied as an argument."
      ]
    },
    {
      "cell_type": "code",
      "execution_count": null,
      "metadata": {
        "id": "Pt92Yt7H1E7x"
      },
      "outputs": [],
      "source": [
        "y_hat_test_lgd_stage_1"
      ]
    },
    {
      "cell_type": "code",
      "execution_count": null,
      "metadata": {
        "id": "Ptukvb4P1E7y"
      },
      "outputs": [],
      "source": [
        "y_hat_test_proba_lgd_stage_1 = reg_lgd_st_1.model.predict_proba(lgd_inputs_stage_1_test)\n",
        "# Calculates the predicted probability values for the dependent variable (targets)\n",
        "# based on the values of the independent variables (inputs) supplied as an argument."
      ]
    },
    {
      "cell_type": "code",
      "execution_count": null,
      "metadata": {
        "id": "RU5b9x7v1E7z"
      },
      "outputs": [],
      "source": [
        "y_hat_test_proba_lgd_stage_1\n",
        "# This is an array of arrays of predicted class probabilities for all classes.\n",
        "# In this case, the first value of every sub-array is the probability for the observation to belong to the first class, i.e. 0,\n",
        "# and the second value is the probability for the observation to belong to the first class, i.e. 1."
      ]
    },
    {
      "cell_type": "code",
      "execution_count": null,
      "metadata": {
        "id": "1CkX3GfT1E70"
      },
      "outputs": [],
      "source": [
        "y_hat_test_proba_lgd_stage_1 = y_hat_test_proba_lgd_stage_1[: ][: , 1]\n",
        "# Here we take all the arrays in the array, and from each array, we take all rows, and only the element with index 1,\n",
        "# that is, the second element.\n",
        "# In other words, we take only the probabilities for being 1."
      ]
    },
    {
      "cell_type": "code",
      "execution_count": null,
      "metadata": {
        "id": "e0406JPV1E71"
      },
      "outputs": [],
      "source": [
        "y_hat_test_proba_lgd_stage_1"
      ]
    },
    {
      "cell_type": "code",
      "execution_count": 15,
      "metadata": {
        "colab": {
          "base_uri": "https://localhost:8080/",
          "height": 165
        },
        "id": "Lphw0uL31E71",
        "outputId": "6d68c616-f35b-4f26-b565-37a28facdf48"
      },
      "outputs": [
        {
          "output_type": "error",
          "ename": "NameError",
          "evalue": "ignored",
          "traceback": [
            "\u001b[0;31m---------------------------------------------------------------------------\u001b[0m",
            "\u001b[0;31mNameError\u001b[0m                                 Traceback (most recent call last)",
            "\u001b[0;32m<ipython-input-15-e67aee1ad708>\u001b[0m in \u001b[0;36m<module>\u001b[0;34m\u001b[0m\n\u001b[0;32m----> 1\u001b[0;31m \u001b[0mlgd_targets_stage_1_test_temp\u001b[0m \u001b[0;34m=\u001b[0m \u001b[0mlgd_targets_stage_1_test\u001b[0m\u001b[0;34m\u001b[0m\u001b[0;34m\u001b[0m\u001b[0m\n\u001b[0m",
            "\u001b[0;31mNameError\u001b[0m: name 'lgd_targets_stage_1_test' is not defined"
          ]
        }
      ],
      "source": [
        "lgd_targets_stage_1_test_temp = lgd_targets_stage_1_test"
      ]
    },
    {
      "cell_type": "code",
      "execution_count": 16,
      "metadata": {
        "colab": {
          "base_uri": "https://localhost:8080/",
          "height": 183
        },
        "id": "p_BauTT51E73",
        "outputId": "ac8b41ac-1393-444b-c8d9-e43f7a6727b7"
      },
      "outputs": [
        {
          "output_type": "error",
          "ename": "NameError",
          "evalue": "ignored",
          "traceback": [
            "\u001b[0;31m---------------------------------------------------------------------------\u001b[0m",
            "\u001b[0;31mNameError\u001b[0m                                 Traceback (most recent call last)",
            "\u001b[0;32m<ipython-input-16-98856b685d49>\u001b[0m in \u001b[0;36m<module>\u001b[0;34m\u001b[0m\n\u001b[0;32m----> 1\u001b[0;31m \u001b[0mlgd_targets_stage_1_test_temp\u001b[0m\u001b[0;34m.\u001b[0m\u001b[0mreset_index\u001b[0m\u001b[0;34m(\u001b[0m\u001b[0mdrop\u001b[0m \u001b[0;34m=\u001b[0m \u001b[0;32mTrue\u001b[0m\u001b[0;34m,\u001b[0m \u001b[0minplace\u001b[0m \u001b[0;34m=\u001b[0m \u001b[0;32mTrue\u001b[0m\u001b[0;34m)\u001b[0m\u001b[0;34m\u001b[0m\u001b[0;34m\u001b[0m\u001b[0m\n\u001b[0m\u001b[1;32m      2\u001b[0m \u001b[0;31m# We reset the index of a dataframe.\u001b[0m\u001b[0;34m\u001b[0m\u001b[0;34m\u001b[0m\u001b[0;34m\u001b[0m\u001b[0m\n",
            "\u001b[0;31mNameError\u001b[0m: name 'lgd_targets_stage_1_test_temp' is not defined"
          ]
        }
      ],
      "source": [
        "lgd_targets_stage_1_test_temp.reset_index(drop = True, inplace = True)\n",
        "# We reset the index of a dataframe."
      ]
    },
    {
      "cell_type": "code",
      "execution_count": 17,
      "metadata": {
        "colab": {
          "base_uri": "https://localhost:8080/",
          "height": 183
        },
        "id": "5Fj7F5or1E74",
        "outputId": "c1790c97-7190-4e98-f3c9-8b919d521cba"
      },
      "outputs": [
        {
          "output_type": "error",
          "ename": "NameError",
          "evalue": "ignored",
          "traceback": [
            "\u001b[0;31m---------------------------------------------------------------------------\u001b[0m",
            "\u001b[0;31mNameError\u001b[0m                                 Traceback (most recent call last)",
            "\u001b[0;32m<ipython-input-17-dd5169ad5d1a>\u001b[0m in \u001b[0;36m<module>\u001b[0;34m\u001b[0m\n\u001b[0;32m----> 1\u001b[0;31m \u001b[0mdf_actual_predicted_probs\u001b[0m \u001b[0;34m=\u001b[0m \u001b[0mpd\u001b[0m\u001b[0;34m.\u001b[0m\u001b[0mconcat\u001b[0m\u001b[0;34m(\u001b[0m\u001b[0;34m[\u001b[0m\u001b[0mlgd_targets_stage_1_test_temp\u001b[0m\u001b[0;34m,\u001b[0m \u001b[0mpd\u001b[0m\u001b[0;34m.\u001b[0m\u001b[0mDataFrame\u001b[0m\u001b[0;34m(\u001b[0m\u001b[0my_hat_test_proba_lgd_stage_1\u001b[0m\u001b[0;34m)\u001b[0m\u001b[0;34m]\u001b[0m\u001b[0;34m,\u001b[0m \u001b[0maxis\u001b[0m \u001b[0;34m=\u001b[0m \u001b[0;36m1\u001b[0m\u001b[0;34m)\u001b[0m\u001b[0;34m\u001b[0m\u001b[0;34m\u001b[0m\u001b[0m\n\u001b[0m\u001b[1;32m      2\u001b[0m \u001b[0;31m# Concatenates two dataframes.\u001b[0m\u001b[0;34m\u001b[0m\u001b[0;34m\u001b[0m\u001b[0;34m\u001b[0m\u001b[0m\n",
            "\u001b[0;31mNameError\u001b[0m: name 'lgd_targets_stage_1_test_temp' is not defined"
          ]
        }
      ],
      "source": [
        "df_actual_predicted_probs = pd.concat([lgd_targets_stage_1_test_temp, pd.DataFrame(y_hat_test_proba_lgd_stage_1)], axis = 1)\n",
        "# Concatenates two dataframes."
      ]
    },
    {
      "cell_type": "code",
      "execution_count": null,
      "metadata": {
        "id": "gbS01sig1E74"
      },
      "outputs": [],
      "source": [
        "df_actual_predicted_probs.columns = ['lgd_targets_stage_1_test', 'y_hat_test_proba_lgd_stage_1']"
      ]
    },
    {
      "cell_type": "code",
      "execution_count": null,
      "metadata": {
        "id": "woLcFqVS1E75"
      },
      "outputs": [],
      "source": [
        "df_actual_predicted_probs.index = lgd_inputs_stage_1_test.index\n",
        "# Makes the index of one dataframe equal to the index of another dataframe."
      ]
    },
    {
      "cell_type": "code",
      "execution_count": null,
      "metadata": {
        "id": "GyPk7Q2v1E76"
      },
      "outputs": [],
      "source": [
        "df_actual_predicted_probs.head()"
      ]
    },
    {
      "cell_type": "markdown",
      "metadata": {
        "id": "kFNFZJ-41E76"
      },
      "source": [
        "### Estimating the Аccuracy of the Мodel"
      ]
    },
    {
      "cell_type": "code",
      "execution_count": 18,
      "metadata": {
        "colab": {
          "base_uri": "https://localhost:8080/",
          "height": 200
        },
        "id": "BE8UHGky1E77",
        "outputId": "2549c701-d1b7-4ce3-985c-9ac48965815f"
      },
      "outputs": [
        {
          "output_type": "error",
          "ename": "NameError",
          "evalue": "ignored",
          "traceback": [
            "\u001b[0;31m---------------------------------------------------------------------------\u001b[0m",
            "\u001b[0;31mNameError\u001b[0m                                 Traceback (most recent call last)",
            "\u001b[0;32m<ipython-input-18-a6ffdc399f47>\u001b[0m in \u001b[0;36m<module>\u001b[0;34m\u001b[0m\n\u001b[1;32m      3\u001b[0m \u001b[0;31m# where every observation that has predicted probability greater than the threshold has a value of 1,\u001b[0m\u001b[0;34m\u001b[0m\u001b[0;34m\u001b[0m\u001b[0;34m\u001b[0m\u001b[0m\n\u001b[1;32m      4\u001b[0m \u001b[0;31m# and every observation that has predicted probability lower than the threshold has a value of 0.\u001b[0m\u001b[0;34m\u001b[0m\u001b[0;34m\u001b[0m\u001b[0;34m\u001b[0m\u001b[0m\n\u001b[0;32m----> 5\u001b[0;31m \u001b[0mdf_actual_predicted_probs\u001b[0m\u001b[0;34m[\u001b[0m\u001b[0;34m'y_hat_test_lgd_stage_1'\u001b[0m\u001b[0;34m]\u001b[0m \u001b[0;34m=\u001b[0m \u001b[0mnp\u001b[0m\u001b[0;34m.\u001b[0m\u001b[0mwhere\u001b[0m\u001b[0;34m(\u001b[0m\u001b[0mdf_actual_predicted_probs\u001b[0m\u001b[0;34m[\u001b[0m\u001b[0;34m'y_hat_test_proba_lgd_stage_1'\u001b[0m\u001b[0;34m]\u001b[0m \u001b[0;34m>\u001b[0m \u001b[0mtr\u001b[0m\u001b[0;34m,\u001b[0m \u001b[0;36m1\u001b[0m\u001b[0;34m,\u001b[0m \u001b[0;36m0\u001b[0m\u001b[0;34m)\u001b[0m\u001b[0;34m\u001b[0m\u001b[0;34m\u001b[0m\u001b[0m\n\u001b[0m",
            "\u001b[0;31mNameError\u001b[0m: name 'df_actual_predicted_probs' is not defined"
          ]
        }
      ],
      "source": [
        "tr = 0.5\n",
        "# We create a new column with an indicator,\n",
        "# where every observation that has predicted probability greater than the threshold has a value of 1,\n",
        "# and every observation that has predicted probability lower than the threshold has a value of 0.\n",
        "df_actual_predicted_probs['y_hat_test_lgd_stage_1'] = np.where(df_actual_predicted_probs['y_hat_test_proba_lgd_stage_1'] > tr, 1, 0)"
      ]
    },
    {
      "cell_type": "code",
      "execution_count": null,
      "metadata": {
        "scrolled": true,
        "id": "s1nbMeEE1E78"
      },
      "outputs": [],
      "source": [
        "pd.crosstab(df_actual_predicted_probs['lgd_targets_stage_1_test'], df_actual_predicted_probs['y_hat_test_lgd_stage_1'], rownames = ['Actual'], colnames = ['Predicted'])\n",
        "# Creates a cross-table where the actual values are displayed by rows and the predicted values by columns.\n",
        "# This table is known as a Confusion Matrix."
      ]
    },
    {
      "cell_type": "code",
      "execution_count": null,
      "metadata": {
        "id": "NYnpQP_x1E79"
      },
      "outputs": [],
      "source": [
        "pd.crosstab(df_actual_predicted_probs['lgd_targets_stage_1_test'], df_actual_predicted_probs['y_hat_test_lgd_stage_1'], rownames = ['Actual'], colnames = ['Predicted']) / df_actual_predicted_probs.shape[0]\n",
        "# Here we divide each value of the table by the total number of observations,\n",
        "# thus getting percentages, or, rates."
      ]
    },
    {
      "cell_type": "code",
      "execution_count": null,
      "metadata": {
        "id": "llJiuPmJ1E79"
      },
      "outputs": [],
      "source": [
        "(pd.crosstab(df_actual_predicted_probs['lgd_targets_stage_1_test'], df_actual_predicted_probs['y_hat_test_lgd_stage_1'], rownames = ['Actual'], colnames = ['Predicted']) / df_actual_predicted_probs.shape[0]).iloc[0, 0] + (pd.crosstab(df_actual_predicted_probs['lgd_targets_stage_1_test'], df_actual_predicted_probs['y_hat_test_lgd_stage_1'], rownames = ['Actual'], colnames = ['Predicted']) / df_actual_predicted_probs.shape[0]).iloc[1, 1]\n",
        "# Here we calculate Accuracy of the model, which is the sum of the diagonal rates."
      ]
    },
    {
      "cell_type": "code",
      "execution_count": 19,
      "metadata": {
        "id": "CUsOfblq1E7-"
      },
      "outputs": [],
      "source": [
        "from sklearn.metrics import roc_curve, roc_auc_score"
      ]
    },
    {
      "cell_type": "code",
      "execution_count": 20,
      "metadata": {
        "colab": {
          "base_uri": "https://localhost:8080/",
          "height": 165
        },
        "id": "1E83EskG1E7_",
        "outputId": "f5812c7c-219e-498f-efa6-e1ca2ca9a156"
      },
      "outputs": [
        {
          "output_type": "error",
          "ename": "NameError",
          "evalue": "ignored",
          "traceback": [
            "\u001b[0;31m---------------------------------------------------------------------------\u001b[0m",
            "\u001b[0;31mNameError\u001b[0m                                 Traceback (most recent call last)",
            "\u001b[0;32m<ipython-input-20-0a733624ca1f>\u001b[0m in \u001b[0;36m<module>\u001b[0;34m\u001b[0m\n\u001b[0;32m----> 1\u001b[0;31m \u001b[0mdf_actual_predicted_probs\u001b[0m\u001b[0;34m.\u001b[0m\u001b[0mhead\u001b[0m\u001b[0;34m(\u001b[0m\u001b[0;34m)\u001b[0m\u001b[0;34m\u001b[0m\u001b[0;34m\u001b[0m\u001b[0m\n\u001b[0m",
            "\u001b[0;31mNameError\u001b[0m: name 'df_actual_predicted_probs' is not defined"
          ]
        }
      ],
      "source": [
        "df_actual_predicted_probs.head()"
      ]
    },
    {
      "cell_type": "code",
      "execution_count": null,
      "metadata": {
        "id": "yirm3-Th1E7_"
      },
      "outputs": [],
      "source": [
        "fpr, tpr, thresholds = roc_curve(df_actual_predicted_probs['lgd_targets_stage_1_test'], df_actual_predicted_probs['y_hat_test_proba_lgd_stage_1'])\n",
        "# Returns the Receiver Operating Characteristic (ROC) Curve from a set of actual values and their predicted probabilities.\n",
        "# As a result, we get three arrays: the false positive rates, the true positive rates, and the thresholds.\n",
        "# we store each of the three arrays in a separate variable."
      ]
    },
    {
      "cell_type": "code",
      "execution_count": null,
      "metadata": {
        "id": "5viHMf1a1E8A"
      },
      "outputs": [],
      "source": [
        "plt.plot(fpr, tpr)\n",
        "# We plot the false positive rate along the x-axis and the true positive rate along the y-axis,\n",
        "# thus plotting the ROC curve.\n",
        "plt.plot(fpr, fpr, linestyle = '--', color = 'k')\n",
        "# We plot a seconary diagonal line, with dashed line style and black color.\n",
        "plt.xlabel('False positive rate')\n",
        "# We name the x-axis \"False positive rate\".\n",
        "plt.ylabel('True positive rate')\n",
        "# We name the x-axis \"True positive rate\".\n",
        "plt.title('ROC curve')\n",
        "# We name the graph \"ROC curve\"."
      ]
    },
    {
      "cell_type": "code",
      "execution_count": null,
      "metadata": {
        "id": "VJBx-XIs1E8B"
      },
      "outputs": [],
      "source": [
        "AUROC = roc_auc_score(df_actual_predicted_probs['lgd_targets_stage_1_test'], df_actual_predicted_probs['y_hat_test_proba_lgd_stage_1'])\n",
        "# Calculates the Area Under the Receiver Operating Characteristic Curve (AUROC)\n",
        "# from a set of actual values and their predicted probabilities.\n",
        "AUROC"
      ]
    },
    {
      "cell_type": "markdown",
      "metadata": {
        "id": "r2cel98r1E8C"
      },
      "source": [
        "### Saving the Model"
      ]
    },
    {
      "cell_type": "code",
      "execution_count": 21,
      "metadata": {
        "id": "7r6zqCPK1E8D"
      },
      "outputs": [],
      "source": [
        "import pickle"
      ]
    },
    {
      "cell_type": "code",
      "execution_count": 22,
      "metadata": {
        "colab": {
          "base_uri": "https://localhost:8080/",
          "height": 183
        },
        "id": "oehSPBHq1E8D",
        "outputId": "65675545-6d4b-4fca-dabf-c7158dd7cee2"
      },
      "outputs": [
        {
          "output_type": "error",
          "ename": "FileNotFoundError",
          "evalue": "ignored",
          "traceback": [
            "\u001b[0;31m---------------------------------------------------------------------------\u001b[0m",
            "\u001b[0;31mFileNotFoundError\u001b[0m                         Traceback (most recent call last)",
            "\u001b[0;32m<ipython-input-22-4a60e3f5ac7e>\u001b[0m in \u001b[0;36m<module>\u001b[0;34m\u001b[0m\n\u001b[0;32m----> 1\u001b[0;31m \u001b[0mpickle\u001b[0m\u001b[0;34m.\u001b[0m\u001b[0mdump\u001b[0m\u001b[0;34m(\u001b[0m\u001b[0mreg_lgd_st_1\u001b[0m\u001b[0;34m,\u001b[0m \u001b[0mopen\u001b[0m\u001b[0;34m(\u001b[0m\u001b[0;34m'models/lgd_model_stage_1.sav'\u001b[0m\u001b[0;34m,\u001b[0m \u001b[0;34m'wb'\u001b[0m\u001b[0;34m)\u001b[0m\u001b[0;34m)\u001b[0m\u001b[0;34m\u001b[0m\u001b[0;34m\u001b[0m\u001b[0m\n\u001b[0m\u001b[1;32m      2\u001b[0m \u001b[0;31m# Here we export our model to a 'SAV' file with file name 'lgd_model_stage_1.sav'.\u001b[0m\u001b[0;34m\u001b[0m\u001b[0;34m\u001b[0m\u001b[0;34m\u001b[0m\u001b[0m\n",
            "\u001b[0;31mFileNotFoundError\u001b[0m: [Errno 2] No such file or directory: 'models/lgd_model_stage_1.sav'"
          ]
        }
      ],
      "source": [
        "pickle.dump(reg_lgd_st_1, open('models/lgd_model_stage_1.sav', 'wb'))\n",
        "# Here we export our model to a 'SAV' file with file name 'lgd_model_stage_1.sav'."
      ]
    },
    {
      "cell_type": "markdown",
      "metadata": {
        "id": "w0CWdH5r1E8E"
      },
      "source": [
        "### Stage 2 – Linear Regression"
      ]
    },
    {
      "cell_type": "code",
      "execution_count": null,
      "metadata": {
        "id": "Y52ifDVo1E8F"
      },
      "outputs": [],
      "source": [
        "lgd_stage_2_data = loan_data_defaults[loan_data_defaults['recovery_rate_0_1'] == 1]\n",
        "# Here we take only rows where the original recovery rate variable is greater than one,\n",
        "# i.e. where the indicator variable we created is equal to 1."
      ]
    },
    {
      "cell_type": "code",
      "execution_count": null,
      "metadata": {
        "id": "ELQf-p0R1E8G"
      },
      "outputs": [],
      "source": [
        "# LGD model stage 2 datasets: how much more than 0 is the recovery rate\n",
        "lgd_inputs_stage_2_train, lgd_inputs_stage_2_test, lgd_targets_stage_2_train, lgd_targets_stage_2_test = train_test_split(lgd_stage_2_data.drop(['good_bad', 'recovery_rate','recovery_rate_0_1', 'CCF'], axis = 1), lgd_stage_2_data['recovery_rate'], test_size = 0.2, random_state = 42)\n",
        "# Takes a set of inputs and a set of targets as arguments. Splits the inputs and the targets into four dataframes:\n",
        "# Inputs - Train, Inputs - Test, Targets - Train, Targets - Test."
      ]
    },
    {
      "cell_type": "code",
      "execution_count": null,
      "metadata": {
        "id": "zCCIor_s1E8G"
      },
      "outputs": [],
      "source": [
        "from sklearn import linear_model\n",
        "from sklearn.metrics import mean_squared_error, r2_score"
      ]
    },
    {
      "cell_type": "code",
      "execution_count": null,
      "metadata": {
        "id": "wCmnCEKn1E8H"
      },
      "outputs": [],
      "source": [
        "# Since the p-values are obtained through certain statistics, we need the 'stat' module from scipy.stats\n",
        "import scipy.stats as stat\n",
        "\n",
        "# Since we are using an object oriented language such as Python, we can simply define our own \n",
        "# LinearRegression class (the same one from sklearn)\n",
        "# By typing the code below we will ovewrite a part of the class with one that includes p-values\n",
        "# Here's the full source code of the ORIGINAL class: https://github.com/scikit-learn/scikit-learn/blob/7b136e9/sklearn/linear_model/base.py#L362\n",
        "\n",
        "\n",
        "class LinearRegression(linear_model.LinearRegression):\n",
        "    \"\"\"\n",
        "    LinearRegression class after sklearn's, but calculate t-statistics\n",
        "    and p-values for model coefficients (betas).\n",
        "    Additional attributes available after .fit()\n",
        "    are `t` and `p` which are of the shape (y.shape[1], X.shape[1])\n",
        "    which is (n_features, n_coefs)\n",
        "    This class sets the intercept to 0 by default, since usually we include it\n",
        "    in X.\n",
        "    \"\"\"\n",
        "    \n",
        "    # nothing changes in __init__\n",
        "    def __init__(self, fit_intercept=True, normalize=False, copy_X=True,\n",
        "                 n_jobs=1):\n",
        "        self.fit_intercept = fit_intercept\n",
        "        self.normalize = normalize\n",
        "        self.copy_X = copy_X\n",
        "        self.n_jobs = n_jobs\n",
        "\n",
        "    \n",
        "    def fit(self, X, y, n_jobs=1):\n",
        "        self = super(LinearRegression, self).fit(X, y, n_jobs)\n",
        "        \n",
        "        # Calculate SSE (sum of squared errors)\n",
        "        # and SE (standard error)\n",
        "        sse = np.sum((self.predict(X) - y) ** 2, axis=0) / float(X.shape[0] - X.shape[1])\n",
        "        se = np.array([np.sqrt(np.diagonal(sse * np.linalg.inv(np.dot(X.T, X))))])\n",
        "\n",
        "        # compute the t-statistic for each feature\n",
        "        self.t = self.coef_ / se\n",
        "        # find the p-value for each feature\n",
        "        self.p = np.squeeze(2 * (1 - stat.t.cdf(np.abs(self.t), y.shape[0] - X.shape[1])))\n",
        "        return self"
      ]
    },
    {
      "cell_type": "code",
      "execution_count": null,
      "metadata": {
        "id": "vbhhb-Sz1E8I"
      },
      "outputs": [],
      "source": [
        "lgd_inputs_stage_2_train = lgd_inputs_stage_2_train[features_all]\n",
        "# Here we keep only the variables we need for the model."
      ]
    },
    {
      "cell_type": "code",
      "execution_count": null,
      "metadata": {
        "id": "bJiZbb_V1E8I"
      },
      "outputs": [],
      "source": [
        "lgd_inputs_stage_2_train = lgd_inputs_stage_2_train.drop(features_reference_cat, axis = 1)\n",
        "# Here we remove the dummy variable reference categories."
      ]
    },
    {
      "cell_type": "code",
      "execution_count": null,
      "metadata": {
        "id": "rJ9m3Yjl1E8J",
        "outputId": "3fd24307-8bbf-4119-da14-5574eedf7e2a"
      },
      "outputs": [
        {
          "data": {
            "text/plain": [
              "LinearRegression()"
            ]
          },
          "execution_count": 47,
          "metadata": {},
          "output_type": "execute_result"
        }
      ],
      "source": [
        "reg_lgd_st_2 = LinearRegression()\n",
        "# We create an instance of an object from the 'LogisticRegression' class.\n",
        "reg_lgd_st_2.fit(lgd_inputs_stage_2_train, lgd_targets_stage_2_train)\n",
        "# Estimates the coefficients of the object from the 'LogisticRegression' class\n",
        "# with inputs (independent variables) contained in the first dataframe\n",
        "# and targets (dependent variables) contained in the second dataframe."
      ]
    },
    {
      "cell_type": "code",
      "execution_count": null,
      "metadata": {
        "id": "AQ23TeqJ1E8K"
      },
      "outputs": [],
      "source": [
        "feature_name = lgd_inputs_stage_2_train.columns.values\n",
        "# Stores the names of the columns of a dataframe in a variable."
      ]
    },
    {
      "cell_type": "code",
      "execution_count": null,
      "metadata": {
        "id": "7DwLBMat1E8K",
        "outputId": "96e6bd90-caf3-46cc-bd0d-72f2a5221f91"
      },
      "outputs": [
        {
          "data": {
            "text/html": [
              "<div>\n",
              "<style scoped>\n",
              "    .dataframe tbody tr th:only-of-type {\n",
              "        vertical-align: middle;\n",
              "    }\n",
              "\n",
              "    .dataframe tbody tr th {\n",
              "        vertical-align: top;\n",
              "    }\n",
              "\n",
              "    .dataframe thead th {\n",
              "        text-align: right;\n",
              "    }\n",
              "</style>\n",
              "<table border=\"1\" class=\"dataframe\">\n",
              "  <thead>\n",
              "    <tr style=\"text-align: right;\">\n",
              "      <th></th>\n",
              "      <th>Feature name</th>\n",
              "      <th>Coefficients</th>\n",
              "      <th>p_values</th>\n",
              "    </tr>\n",
              "  </thead>\n",
              "  <tbody>\n",
              "    <tr>\n",
              "      <th>0</th>\n",
              "      <td>Intercept</td>\n",
              "      <td>2.406858e-01</td>\n",
              "      <td>NaN</td>\n",
              "    </tr>\n",
              "    <tr>\n",
              "      <th>1</th>\n",
              "      <td>grade:A</td>\n",
              "      <td>-6.826892e-02</td>\n",
              "      <td>0.000</td>\n",
              "    </tr>\n",
              "    <tr>\n",
              "      <th>2</th>\n",
              "      <td>grade:B</td>\n",
              "      <td>-5.083556e-02</td>\n",
              "      <td>0.000</td>\n",
              "    </tr>\n",
              "    <tr>\n",
              "      <th>3</th>\n",
              "      <td>grade:C</td>\n",
              "      <td>-3.748066e-02</td>\n",
              "      <td>0.000</td>\n",
              "    </tr>\n",
              "    <tr>\n",
              "      <th>4</th>\n",
              "      <td>grade:D</td>\n",
              "      <td>-2.717310e-02</td>\n",
              "      <td>0.000</td>\n",
              "    </tr>\n",
              "    <tr>\n",
              "      <th>5</th>\n",
              "      <td>grade:E</td>\n",
              "      <td>-1.315941e-02</td>\n",
              "      <td>0.002</td>\n",
              "    </tr>\n",
              "    <tr>\n",
              "      <th>6</th>\n",
              "      <td>grade:F</td>\n",
              "      <td>-5.260168e-03</td>\n",
              "      <td>0.275</td>\n",
              "    </tr>\n",
              "    <tr>\n",
              "      <th>7</th>\n",
              "      <td>home_ownership:MORTGAGE</td>\n",
              "      <td>2.832212e-03</td>\n",
              "      <td>0.061</td>\n",
              "    </tr>\n",
              "    <tr>\n",
              "      <th>8</th>\n",
              "      <td>home_ownership:NONE</td>\n",
              "      <td>1.459035e-01</td>\n",
              "      <td>0.000</td>\n",
              "    </tr>\n",
              "    <tr>\n",
              "      <th>9</th>\n",
              "      <td>home_ownership:OTHER</td>\n",
              "      <td>-9.475922e-03</td>\n",
              "      <td>0.644</td>\n",
              "    </tr>\n",
              "    <tr>\n",
              "      <th>10</th>\n",
              "      <td>home_ownership:OWN</td>\n",
              "      <td>5.000678e-03</td>\n",
              "      <td>0.040</td>\n",
              "    </tr>\n",
              "    <tr>\n",
              "      <th>11</th>\n",
              "      <td>verification_status:Not Verified</td>\n",
              "      <td>1.056585e-03</td>\n",
              "      <td>0.553</td>\n",
              "    </tr>\n",
              "    <tr>\n",
              "      <th>12</th>\n",
              "      <td>verification_status:Source Verified</td>\n",
              "      <td>-1.009915e-03</td>\n",
              "      <td>0.535</td>\n",
              "    </tr>\n",
              "    <tr>\n",
              "      <th>13</th>\n",
              "      <td>purpose:car</td>\n",
              "      <td>-2.995960e-03</td>\n",
              "      <td>0.634</td>\n",
              "    </tr>\n",
              "    <tr>\n",
              "      <th>14</th>\n",
              "      <td>purpose:debt_consolidation</td>\n",
              "      <td>8.206319e-05</td>\n",
              "      <td>0.965</td>\n",
              "    </tr>\n",
              "    <tr>\n",
              "      <th>15</th>\n",
              "      <td>purpose:educational</td>\n",
              "      <td>7.625467e-02</td>\n",
              "      <td>0.000</td>\n",
              "    </tr>\n",
              "    <tr>\n",
              "      <th>16</th>\n",
              "      <td>purpose:home_improvement</td>\n",
              "      <td>-3.702374e-03</td>\n",
              "      <td>0.273</td>\n",
              "    </tr>\n",
              "    <tr>\n",
              "      <th>17</th>\n",
              "      <td>purpose:house</td>\n",
              "      <td>-3.786803e-03</td>\n",
              "      <td>0.620</td>\n",
              "    </tr>\n",
              "    <tr>\n",
              "      <th>18</th>\n",
              "      <td>purpose:major_purchase</td>\n",
              "      <td>2.914439e-03</td>\n",
              "      <td>0.538</td>\n",
              "    </tr>\n",
              "    <tr>\n",
              "      <th>19</th>\n",
              "      <td>purpose:medical</td>\n",
              "      <td>1.078825e-02</td>\n",
              "      <td>0.074</td>\n",
              "    </tr>\n",
              "    <tr>\n",
              "      <th>20</th>\n",
              "      <td>purpose:moving</td>\n",
              "      <td>1.398692e-02</td>\n",
              "      <td>0.039</td>\n",
              "    </tr>\n",
              "    <tr>\n",
              "      <th>21</th>\n",
              "      <td>purpose:other</td>\n",
              "      <td>4.841345e-03</td>\n",
              "      <td>0.109</td>\n",
              "    </tr>\n",
              "    <tr>\n",
              "      <th>22</th>\n",
              "      <td>purpose:renewable_energy</td>\n",
              "      <td>2.420645e-02</td>\n",
              "      <td>0.142</td>\n",
              "    </tr>\n",
              "    <tr>\n",
              "      <th>23</th>\n",
              "      <td>purpose:small_business</td>\n",
              "      <td>6.212343e-04</td>\n",
              "      <td>0.869</td>\n",
              "    </tr>\n",
              "    <tr>\n",
              "      <th>24</th>\n",
              "      <td>purpose:vacation</td>\n",
              "      <td>-3.002398e-03</td>\n",
              "      <td>0.731</td>\n",
              "    </tr>\n",
              "    <tr>\n",
              "      <th>25</th>\n",
              "      <td>purpose:wedding</td>\n",
              "      <td>2.034853e-02</td>\n",
              "      <td>0.006</td>\n",
              "    </tr>\n",
              "    <tr>\n",
              "      <th>26</th>\n",
              "      <td>initial_list_status:w</td>\n",
              "      <td>1.464671e-02</td>\n",
              "      <td>0.000</td>\n",
              "    </tr>\n",
              "    <tr>\n",
              "      <th>27</th>\n",
              "      <td>term_int</td>\n",
              "      <td>3.316229e-04</td>\n",
              "      <td>0.020</td>\n",
              "    </tr>\n",
              "    <tr>\n",
              "      <th>28</th>\n",
              "      <td>emp_length_int</td>\n",
              "      <td>8.727462e-05</td>\n",
              "      <td>0.635</td>\n",
              "    </tr>\n",
              "    <tr>\n",
              "      <th>29</th>\n",
              "      <td>mths_since_issue_d</td>\n",
              "      <td>-1.521649e-03</td>\n",
              "      <td>0.000</td>\n",
              "    </tr>\n",
              "    <tr>\n",
              "      <th>30</th>\n",
              "      <td>mths_since_earliest_cr_line</td>\n",
              "      <td>3.418678e-05</td>\n",
              "      <td>0.000</td>\n",
              "    </tr>\n",
              "    <tr>\n",
              "      <th>31</th>\n",
              "      <td>funded_amnt</td>\n",
              "      <td>-2.186999e-07</td>\n",
              "      <td>0.699</td>\n",
              "    </tr>\n",
              "    <tr>\n",
              "      <th>32</th>\n",
              "      <td>int_rate</td>\n",
              "      <td>-2.544714e-03</td>\n",
              "      <td>0.000</td>\n",
              "    </tr>\n",
              "    <tr>\n",
              "      <th>33</th>\n",
              "      <td>installment</td>\n",
              "      <td>-1.037621e-05</td>\n",
              "      <td>0.557</td>\n",
              "    </tr>\n",
              "    <tr>\n",
              "      <th>34</th>\n",
              "      <td>annual_inc</td>\n",
              "      <td>6.389841e-08</td>\n",
              "      <td>0.001</td>\n",
              "    </tr>\n",
              "    <tr>\n",
              "      <th>35</th>\n",
              "      <td>dti</td>\n",
              "      <td>1.775655e-04</td>\n",
              "      <td>0.069</td>\n",
              "    </tr>\n",
              "    <tr>\n",
              "      <th>36</th>\n",
              "      <td>delinq_2yrs</td>\n",
              "      <td>1.757943e-03</td>\n",
              "      <td>0.050</td>\n",
              "    </tr>\n",
              "    <tr>\n",
              "      <th>37</th>\n",
              "      <td>inq_last_6mths</td>\n",
              "      <td>1.274095e-03</td>\n",
              "      <td>0.018</td>\n",
              "    </tr>\n",
              "    <tr>\n",
              "      <th>38</th>\n",
              "      <td>mths_since_last_delinq</td>\n",
              "      <td>-1.094747e-06</td>\n",
              "      <td>0.971</td>\n",
              "    </tr>\n",
              "    <tr>\n",
              "      <th>39</th>\n",
              "      <td>mths_since_last_record</td>\n",
              "      <td>-5.558083e-05</td>\n",
              "      <td>0.181</td>\n",
              "    </tr>\n",
              "    <tr>\n",
              "      <th>40</th>\n",
              "      <td>open_acc</td>\n",
              "      <td>-1.196505e-03</td>\n",
              "      <td>0.000</td>\n",
              "    </tr>\n",
              "    <tr>\n",
              "      <th>41</th>\n",
              "      <td>pub_rec</td>\n",
              "      <td>3.447322e-03</td>\n",
              "      <td>0.208</td>\n",
              "    </tr>\n",
              "    <tr>\n",
              "      <th>42</th>\n",
              "      <td>total_acc</td>\n",
              "      <td>4.766629e-04</td>\n",
              "      <td>0.000</td>\n",
              "    </tr>\n",
              "    <tr>\n",
              "      <th>43</th>\n",
              "      <td>acc_now_delinq</td>\n",
              "      <td>4.278394e-03</td>\n",
              "      <td>0.658</td>\n",
              "    </tr>\n",
              "    <tr>\n",
              "      <th>44</th>\n",
              "      <td>total_rev_hi_lim</td>\n",
              "      <td>2.263456e-07</td>\n",
              "      <td>0.000</td>\n",
              "    </tr>\n",
              "  </tbody>\n",
              "</table>\n",
              "</div>"
            ],
            "text/plain": [
              "                           Feature name  Coefficients  p_values\n",
              "0                             Intercept  2.406858e-01       NaN\n",
              "1                               grade:A -6.826892e-02     0.000\n",
              "2                               grade:B -5.083556e-02     0.000\n",
              "3                               grade:C -3.748066e-02     0.000\n",
              "4                               grade:D -2.717310e-02     0.000\n",
              "5                               grade:E -1.315941e-02     0.002\n",
              "6                               grade:F -5.260168e-03     0.275\n",
              "7               home_ownership:MORTGAGE  2.832212e-03     0.061\n",
              "8                   home_ownership:NONE  1.459035e-01     0.000\n",
              "9                  home_ownership:OTHER -9.475922e-03     0.644\n",
              "10                   home_ownership:OWN  5.000678e-03     0.040\n",
              "11     verification_status:Not Verified  1.056585e-03     0.553\n",
              "12  verification_status:Source Verified -1.009915e-03     0.535\n",
              "13                          purpose:car -2.995960e-03     0.634\n",
              "14           purpose:debt_consolidation  8.206319e-05     0.965\n",
              "15                  purpose:educational  7.625467e-02     0.000\n",
              "16             purpose:home_improvement -3.702374e-03     0.273\n",
              "17                        purpose:house -3.786803e-03     0.620\n",
              "18               purpose:major_purchase  2.914439e-03     0.538\n",
              "19                      purpose:medical  1.078825e-02     0.074\n",
              "20                       purpose:moving  1.398692e-02     0.039\n",
              "21                        purpose:other  4.841345e-03     0.109\n",
              "22             purpose:renewable_energy  2.420645e-02     0.142\n",
              "23               purpose:small_business  6.212343e-04     0.869\n",
              "24                     purpose:vacation -3.002398e-03     0.731\n",
              "25                      purpose:wedding  2.034853e-02     0.006\n",
              "26                initial_list_status:w  1.464671e-02     0.000\n",
              "27                             term_int  3.316229e-04     0.020\n",
              "28                       emp_length_int  8.727462e-05     0.635\n",
              "29                   mths_since_issue_d -1.521649e-03     0.000\n",
              "30          mths_since_earliest_cr_line  3.418678e-05     0.000\n",
              "31                          funded_amnt -2.186999e-07     0.699\n",
              "32                             int_rate -2.544714e-03     0.000\n",
              "33                          installment -1.037621e-05     0.557\n",
              "34                           annual_inc  6.389841e-08     0.001\n",
              "35                                  dti  1.775655e-04     0.069\n",
              "36                          delinq_2yrs  1.757943e-03     0.050\n",
              "37                       inq_last_6mths  1.274095e-03     0.018\n",
              "38               mths_since_last_delinq -1.094747e-06     0.971\n",
              "39               mths_since_last_record -5.558083e-05     0.181\n",
              "40                             open_acc -1.196505e-03     0.000\n",
              "41                              pub_rec  3.447322e-03     0.208\n",
              "42                            total_acc  4.766629e-04     0.000\n",
              "43                       acc_now_delinq  4.278394e-03     0.658\n",
              "44                     total_rev_hi_lim  2.263456e-07     0.000"
            ]
          },
          "execution_count": 49,
          "metadata": {},
          "output_type": "execute_result"
        }
      ],
      "source": [
        "summary_table = pd.DataFrame(columns = ['Feature name'], data = feature_name)\n",
        "# Creates a dataframe with a column titled 'Feature name' and row values contained in the 'feature_name' variable.\n",
        "summary_table['Coefficients'] = np.transpose(reg_lgd_st_2.coef_)\n",
        "# Creates a new column in the dataframe, called 'Coefficients',\n",
        "# with row values the transposed coefficients from the 'LogisticRegression' object.\n",
        "summary_table.index = summary_table.index + 1\n",
        "# Increases the index of every row of the dataframe with 1.\n",
        "summary_table.loc[0] = ['Intercept', reg_lgd_st_2.intercept_]\n",
        "# Assigns values of the row with index 0 of the dataframe.\n",
        "summary_table = summary_table.sort_index()\n",
        "# Sorts the dataframe by index.\n",
        "p_values = reg_lgd_st_2.p\n",
        "# We take the result of the newly added method 'p_values' and store it in a variable 'p_values'.\n",
        "p_values = np.append(np.nan,np.array(p_values))\n",
        "# We add the value 'NaN' in the beginning of the variable with p-values.\n",
        "summary_table['p_values'] = p_values.round(3)\n",
        "# In the 'summary_table' dataframe, we add a new column, called 'p_values', containing the values from the 'p_values' variable.\n",
        "summary_table"
      ]
    },
    {
      "cell_type": "markdown",
      "metadata": {
        "id": "JIs6D_DQ1E8L"
      },
      "source": [
        "### Stage 2 – Linear Regression Evaluation"
      ]
    },
    {
      "cell_type": "code",
      "execution_count": null,
      "metadata": {
        "id": "-DT8fP6b1E8L"
      },
      "outputs": [],
      "source": [
        "lgd_inputs_stage_2_test = lgd_inputs_stage_2_test[features_all]\n",
        "# Here we keep only the variables we need for the model."
      ]
    },
    {
      "cell_type": "code",
      "execution_count": null,
      "metadata": {
        "id": "cW3u4jT01E8M"
      },
      "outputs": [],
      "source": [
        "lgd_inputs_stage_2_test = lgd_inputs_stage_2_test.drop(features_reference_cat, axis = 1)\n",
        "# Here we remove the dummy variable reference categories."
      ]
    },
    {
      "cell_type": "code",
      "execution_count": null,
      "metadata": {
        "id": "aa4UiuPp1E8M",
        "outputId": "fda7f91c-7ad0-4ada-dbf2-2ee694df939f"
      },
      "outputs": [
        {
          "data": {
            "text/plain": [
              "array(['grade:A', 'grade:B', 'grade:C', 'grade:D', 'grade:E', 'grade:F',\n",
              "       'home_ownership:MORTGAGE', 'home_ownership:NONE',\n",
              "       'home_ownership:OTHER', 'home_ownership:OWN',\n",
              "       'verification_status:Not Verified',\n",
              "       'verification_status:Source Verified', 'purpose:car',\n",
              "       'purpose:debt_consolidation', 'purpose:educational',\n",
              "       'purpose:home_improvement', 'purpose:house',\n",
              "       'purpose:major_purchase', 'purpose:medical', 'purpose:moving',\n",
              "       'purpose:other', 'purpose:renewable_energy',\n",
              "       'purpose:small_business', 'purpose:vacation', 'purpose:wedding',\n",
              "       'initial_list_status:w', 'term_int', 'emp_length_int',\n",
              "       'mths_since_issue_d', 'mths_since_earliest_cr_line', 'funded_amnt',\n",
              "       'int_rate', 'installment', 'annual_inc', 'dti', 'delinq_2yrs',\n",
              "       'inq_last_6mths', 'mths_since_last_delinq',\n",
              "       'mths_since_last_record', 'open_acc', 'pub_rec', 'total_acc',\n",
              "       'acc_now_delinq', 'total_rev_hi_lim'], dtype=object)"
            ]
          },
          "execution_count": 52,
          "metadata": {},
          "output_type": "execute_result"
        }
      ],
      "source": [
        "lgd_inputs_stage_2_test.columns.values\n",
        "# Calculates the predicted values for the dependent variable (targets)\n",
        "# based on the values of the independent variables (inputs) supplied as an argument."
      ]
    },
    {
      "cell_type": "code",
      "execution_count": null,
      "metadata": {
        "id": "Mbwx_Ujh1E8N"
      },
      "outputs": [],
      "source": [
        "y_hat_test_lgd_stage_2 = reg_lgd_st_2.predict(lgd_inputs_stage_2_test)\n",
        "# Calculates the predicted values for the dependent variable (targets)\n",
        "# based on the values of the independent variables (inputs) supplied as an argument."
      ]
    },
    {
      "cell_type": "code",
      "execution_count": null,
      "metadata": {
        "id": "Ixiplj5S1E8N"
      },
      "outputs": [],
      "source": [
        "lgd_targets_stage_2_test_temp = lgd_targets_stage_2_test"
      ]
    },
    {
      "cell_type": "code",
      "execution_count": null,
      "metadata": {
        "id": "L5HpoeQJ1E8O"
      },
      "outputs": [],
      "source": [
        "lgd_targets_stage_2_test_temp = lgd_targets_stage_2_test_temp.reset_index(drop = True)\n",
        "# We reset the index of a dataframe."
      ]
    },
    {
      "cell_type": "code",
      "execution_count": null,
      "metadata": {
        "id": "HDLPAJzk1E8P",
        "outputId": "81935657-e494-4949-b477-70e7a830a73f"
      },
      "outputs": [
        {
          "data": {
            "text/html": [
              "<div>\n",
              "<style scoped>\n",
              "    .dataframe tbody tr th:only-of-type {\n",
              "        vertical-align: middle;\n",
              "    }\n",
              "\n",
              "    .dataframe tbody tr th {\n",
              "        vertical-align: top;\n",
              "    }\n",
              "\n",
              "    .dataframe thead th {\n",
              "        text-align: right;\n",
              "    }\n",
              "</style>\n",
              "<table border=\"1\" class=\"dataframe\">\n",
              "  <thead>\n",
              "    <tr style=\"text-align: right;\">\n",
              "      <th></th>\n",
              "      <th>recovery_rate</th>\n",
              "      <th>0</th>\n",
              "    </tr>\n",
              "  </thead>\n",
              "  <tbody>\n",
              "    <tr>\n",
              "      <th>recovery_rate</th>\n",
              "      <td>1.000000</td>\n",
              "      <td>0.307996</td>\n",
              "    </tr>\n",
              "    <tr>\n",
              "      <th>0</th>\n",
              "      <td>0.307996</td>\n",
              "      <td>1.000000</td>\n",
              "    </tr>\n",
              "  </tbody>\n",
              "</table>\n",
              "</div>"
            ],
            "text/plain": [
              "               recovery_rate         0\n",
              "recovery_rate       1.000000  0.307996\n",
              "0                   0.307996  1.000000"
            ]
          },
          "execution_count": 56,
          "metadata": {},
          "output_type": "execute_result"
        }
      ],
      "source": [
        "pd.concat([lgd_targets_stage_2_test_temp, pd.DataFrame(y_hat_test_lgd_stage_2)], axis = 1).corr()\n",
        "# We calculate the correlation between actual and predicted values."
      ]
    },
    {
      "cell_type": "code",
      "execution_count": null,
      "metadata": {
        "scrolled": true,
        "id": "Bv2YVS1n1E8P",
        "outputId": "1b18fbbb-b0b9-42ae-863d-318499142a7d"
      },
      "outputs": [
        {
          "data": {
            "text/plain": [
              "<AxesSubplot:xlabel='recovery_rate', ylabel='Density'>"
            ]
          },
          "execution_count": 57,
          "metadata": {},
          "output_type": "execute_result"
        },
        {
          "data": {
            "image/png": "[encoded data removed]",
            "text/plain": [
              "<Figure size 432x288 with 1 Axes>"
            ]
          },
          "metadata": {
            "needs_background": "light"
          },
          "output_type": "display_data"
        }
      ],
      "source": [
        "sns.distplot(lgd_targets_stage_2_test - y_hat_test_lgd_stage_2)\n",
        "# We plot the distribution of the residuals."
      ]
    },
    {
      "cell_type": "code",
      "execution_count": null,
      "metadata": {
        "id": "856YuKMH1E8Q"
      },
      "outputs": [],
      "source": [
        "pickle.dump(reg_lgd_st_2, open('models/lgd_model_stage_2.sav', 'wb'))\n",
        "# Here we export our model to a 'SAV' file with file name 'lgd_model_stage_1.sav'."
      ]
    },
    {
      "cell_type": "markdown",
      "metadata": {
        "id": "q4-lgtwR1E8R"
      },
      "source": [
        "### Combining Stage 1 and Stage 2"
      ]
    },
    {
      "cell_type": "code",
      "execution_count": null,
      "metadata": {
        "id": "7EAbsXFd1E8R"
      },
      "outputs": [],
      "source": [
        "y_hat_test_lgd_stage_2_all = reg_lgd_st_2.predict(lgd_inputs_stage_1_test)"
      ]
    },
    {
      "cell_type": "code",
      "execution_count": null,
      "metadata": {
        "id": "0BjlIXmf1E8S",
        "outputId": "9b6a7576-2784-4c53-9a4d-08f9f895adca"
      },
      "outputs": [
        {
          "data": {
            "text/plain": [
              "array([0.1193906 , 0.09605635, 0.13367631, ..., 0.12078611, 0.11587422,\n",
              "       0.15667447])"
            ]
          },
          "execution_count": 60,
          "metadata": {},
          "output_type": "execute_result"
        }
      ],
      "source": [
        "y_hat_test_lgd_stage_2_all"
      ]
    },
    {
      "cell_type": "code",
      "execution_count": null,
      "metadata": {
        "id": "3e2T6Pnp1E8S"
      },
      "outputs": [],
      "source": [
        "y_hat_test_lgd = y_hat_test_lgd_stage_1 * y_hat_test_lgd_stage_2_all\n",
        "# Here we combine the predictions of the models from the two stages."
      ]
    },
    {
      "cell_type": "code",
      "execution_count": null,
      "metadata": {
        "id": "DBQe2nEH1E8T",
        "outputId": "c0ffadf7-5e34-427d-80f2-65162cad52de"
      },
      "outputs": [
        {
          "data": {
            "text/html": [
              "<div>\n",
              "<style scoped>\n",
              "    .dataframe tbody tr th:only-of-type {\n",
              "        vertical-align: middle;\n",
              "    }\n",
              "\n",
              "    .dataframe tbody tr th {\n",
              "        vertical-align: top;\n",
              "    }\n",
              "\n",
              "    .dataframe thead th {\n",
              "        text-align: right;\n",
              "    }\n",
              "</style>\n",
              "<table border=\"1\" class=\"dataframe\">\n",
              "  <thead>\n",
              "    <tr style=\"text-align: right;\">\n",
              "      <th></th>\n",
              "      <th>0</th>\n",
              "    </tr>\n",
              "  </thead>\n",
              "  <tbody>\n",
              "    <tr>\n",
              "      <th>count</th>\n",
              "      <td>8648.000000</td>\n",
              "    </tr>\n",
              "    <tr>\n",
              "      <th>mean</th>\n",
              "      <td>0.087135</td>\n",
              "    </tr>\n",
              "    <tr>\n",
              "      <th>std</th>\n",
              "      <td>0.050119</td>\n",
              "    </tr>\n",
              "    <tr>\n",
              "      <th>min</th>\n",
              "      <td>-0.007634</td>\n",
              "    </tr>\n",
              "    <tr>\n",
              "      <th>25%</th>\n",
              "      <td>0.063962</td>\n",
              "    </tr>\n",
              "    <tr>\n",
              "      <th>50%</th>\n",
              "      <td>0.101121</td>\n",
              "    </tr>\n",
              "    <tr>\n",
              "      <th>75%</th>\n",
              "      <td>0.123726</td>\n",
              "    </tr>\n",
              "    <tr>\n",
              "      <th>max</th>\n",
              "      <td>0.236973</td>\n",
              "    </tr>\n",
              "  </tbody>\n",
              "</table>\n",
              "</div>"
            ],
            "text/plain": [
              "                 0\n",
              "count  8648.000000\n",
              "mean      0.087135\n",
              "std       0.050119\n",
              "min      -0.007634\n",
              "25%       0.063962\n",
              "50%       0.101121\n",
              "75%       0.123726\n",
              "max       0.236973"
            ]
          },
          "execution_count": 62,
          "metadata": {},
          "output_type": "execute_result"
        }
      ],
      "source": [
        "pd.DataFrame(y_hat_test_lgd).describe()\n",
        "# Shows some descriptive statisics for the values of a column."
      ]
    },
    {
      "cell_type": "code",
      "execution_count": null,
      "metadata": {
        "id": "cl8qkZQA1E8T"
      },
      "outputs": [],
      "source": [
        "y_hat_test_lgd = np.where(y_hat_test_lgd < 0, 0, y_hat_test_lgd)\n",
        "y_hat_test_lgd = np.where(y_hat_test_lgd > 1, 1, y_hat_test_lgd)\n",
        "# We set predicted values that are greater than 1 to 1 and predicted values that are less than 0 to 0."
      ]
    },
    {
      "cell_type": "code",
      "execution_count": null,
      "metadata": {
        "id": "XHHyQelD1E8U",
        "outputId": "b72d583b-d844-4ce1-b984-3d107702d5af"
      },
      "outputs": [
        {
          "data": {
            "text/html": [
              "<div>\n",
              "<style scoped>\n",
              "    .dataframe tbody tr th:only-of-type {\n",
              "        vertical-align: middle;\n",
              "    }\n",
              "\n",
              "    .dataframe tbody tr th {\n",
              "        vertical-align: top;\n",
              "    }\n",
              "\n",
              "    .dataframe thead th {\n",
              "        text-align: right;\n",
              "    }\n",
              "</style>\n",
              "<table border=\"1\" class=\"dataframe\">\n",
              "  <thead>\n",
              "    <tr style=\"text-align: right;\">\n",
              "      <th></th>\n",
              "      <th>0</th>\n",
              "    </tr>\n",
              "  </thead>\n",
              "  <tbody>\n",
              "    <tr>\n",
              "      <th>count</th>\n",
              "      <td>8648.000000</td>\n",
              "    </tr>\n",
              "    <tr>\n",
              "      <th>mean</th>\n",
              "      <td>0.087137</td>\n",
              "    </tr>\n",
              "    <tr>\n",
              "      <th>std</th>\n",
              "      <td>0.050115</td>\n",
              "    </tr>\n",
              "    <tr>\n",
              "      <th>min</th>\n",
              "      <td>0.000000</td>\n",
              "    </tr>\n",
              "    <tr>\n",
              "      <th>25%</th>\n",
              "      <td>0.063962</td>\n",
              "    </tr>\n",
              "    <tr>\n",
              "      <th>50%</th>\n",
              "      <td>0.101121</td>\n",
              "    </tr>\n",
              "    <tr>\n",
              "      <th>75%</th>\n",
              "      <td>0.123726</td>\n",
              "    </tr>\n",
              "    <tr>\n",
              "      <th>max</th>\n",
              "      <td>0.236973</td>\n",
              "    </tr>\n",
              "  </tbody>\n",
              "</table>\n",
              "</div>"
            ],
            "text/plain": [
              "                 0\n",
              "count  8648.000000\n",
              "mean      0.087137\n",
              "std       0.050115\n",
              "min       0.000000\n",
              "25%       0.063962\n",
              "50%       0.101121\n",
              "75%       0.123726\n",
              "max       0.236973"
            ]
          },
          "execution_count": 64,
          "metadata": {},
          "output_type": "execute_result"
        }
      ],
      "source": [
        "pd.DataFrame(y_hat_test_lgd).describe()\n",
        "# Shows some descriptive statisics for the values of a column."
      ]
    },
    {
      "cell_type": "markdown",
      "metadata": {
        "id": "rxZg6yWd1E8V"
      },
      "source": [
        "# EAD Model"
      ]
    },
    {
      "cell_type": "code",
      "execution_count": null,
      "metadata": {
        "id": "pBDi9cLh1E8V"
      },
      "outputs": [],
      "source": [
        "## Estimation and Interpretation"
      ]
    },
    {
      "cell_type": "code",
      "execution_count": null,
      "metadata": {
        "id": "1IAzHxH11E8W"
      },
      "outputs": [],
      "source": [
        "# EAD model datasets\n",
        "ead_inputs_train, ead_inputs_test, ead_targets_train, ead_targets_test = train_test_split(loan_data_defaults.drop(['good_bad', 'recovery_rate','recovery_rate_0_1', 'CCF'], axis = 1), loan_data_defaults['CCF'], test_size = 0.2, random_state = 42)\n",
        "# Takes a set of inputs and a set of targets as arguments. Splits the inputs and the targets into four dataframes:\n",
        "# Inputs - Train, Inputs - Test, Targets - Train, Targets - Test."
      ]
    },
    {
      "cell_type": "code",
      "execution_count": null,
      "metadata": {
        "id": "Z9xv0-m-1E8W",
        "outputId": "90e86622-03fe-40df-e265-e794eae264d7"
      },
      "outputs": [
        {
          "data": {
            "text/plain": [
              "array(['Unnamed: 0', 'Unnamed: 0.1', 'Unnamed: 0.1.1', 'id', 'member_id',\n",
              "       'loan_amnt', 'funded_amnt', 'funded_amnt_inv', 'term', 'int_rate',\n",
              "       'installment', 'grade', 'sub_grade', 'emp_title', 'emp_length',\n",
              "       'home_ownership', 'annual_inc', 'verification_status', 'issue_d',\n",
              "       'loan_status', 'pymnt_plan', 'url', 'desc', 'purpose', 'title',\n",
              "       'zip_code', 'addr_state', 'dti', 'delinq_2yrs', 'earliest_cr_line',\n",
              "       'inq_last_6mths', 'mths_since_last_delinq',\n",
              "       'mths_since_last_record', 'open_acc', 'pub_rec', 'revol_bal',\n",
              "       'revol_util', 'total_acc', 'initial_list_status', 'out_prncp',\n",
              "       'out_prncp_inv', 'total_pymnt', 'total_pymnt_inv',\n",
              "       'total_rec_prncp', 'total_rec_int', 'total_rec_late_fee',\n",
              "       'recoveries', 'collection_recovery_fee', 'last_pymnt_d',\n",
              "       'last_pymnt_amnt', 'next_pymnt_d', 'last_credit_pull_d',\n",
              "       'collections_12_mths_ex_med', 'mths_since_last_major_derog',\n",
              "       'policy_code', 'application_type', 'annual_inc_joint', 'dti_joint',\n",
              "       'verification_status_joint', 'acc_now_delinq', 'tot_coll_amt',\n",
              "       'tot_cur_bal', 'open_acc_6m', 'open_il_6m', 'open_il_12m',\n",
              "       'open_il_24m', 'mths_since_rcnt_il', 'total_bal_il', 'il_util',\n",
              "       'open_rv_12m', 'open_rv_24m', 'max_bal_bc', 'all_util',\n",
              "       'total_rev_hi_lim', 'inq_fi', 'total_cu_tl', 'inq_last_12m',\n",
              "       'emp_length_int', 'earliest_cr_line_date',\n",
              "       'mths_since_earliest_cr_line', 'term_int', 'issue_d_date',\n",
              "       'mths_since_issue_d', 'grade:A', 'grade:B', 'grade:C', 'grade:D',\n",
              "       'grade:E', 'grade:F', 'grade:G', 'sub_grade:A1', 'sub_grade:A2',\n",
              "       'sub_grade:A3', 'sub_grade:A4', 'sub_grade:A5', 'sub_grade:B1',\n",
              "       'sub_grade:B2', 'sub_grade:B3', 'sub_grade:B4', 'sub_grade:B5',\n",
              "       'sub_grade:C1', 'sub_grade:C2', 'sub_grade:C3', 'sub_grade:C4',\n",
              "       'sub_grade:C5', 'sub_grade:D1', 'sub_grade:D2', 'sub_grade:D3',\n",
              "       'sub_grade:D4', 'sub_grade:D5', 'sub_grade:E1', 'sub_grade:E2',\n",
              "       'sub_grade:E3', 'sub_grade:E4', 'sub_grade:E5', 'sub_grade:F1',\n",
              "       'sub_grade:F2', 'sub_grade:F3', 'sub_grade:F4', 'sub_grade:F5',\n",
              "       'sub_grade:G1', 'sub_grade:G2', 'sub_grade:G3', 'sub_grade:G4',\n",
              "       'sub_grade:G5', 'home_ownership:ANY', 'home_ownership:MORTGAGE',\n",
              "       'home_ownership:NONE', 'home_ownership:OTHER',\n",
              "       'home_ownership:OWN', 'home_ownership:RENT',\n",
              "       'verification_status:Not Verified',\n",
              "       'verification_status:Source Verified',\n",
              "       'verification_status:Verified', 'loan_status:Charged Off',\n",
              "       'loan_status:Current', 'loan_status:Default',\n",
              "       'loan_status:Does not meet the credit policy. Status:Charged Off',\n",
              "       'loan_status:Does not meet the credit policy. Status:Fully Paid',\n",
              "       'loan_status:Fully Paid', 'loan_status:In Grace Period',\n",
              "       'loan_status:Late (16-30 days)', 'loan_status:Late (31-120 days)',\n",
              "       'purpose:car', 'purpose:credit_card', 'purpose:debt_consolidation',\n",
              "       'purpose:educational', 'purpose:home_improvement', 'purpose:house',\n",
              "       'purpose:major_purchase', 'purpose:medical', 'purpose:moving',\n",
              "       'purpose:other', 'purpose:renewable_energy',\n",
              "       'purpose:small_business', 'purpose:vacation', 'purpose:wedding',\n",
              "       'addr_state:AK', 'addr_state:AL', 'addr_state:AR', 'addr_state:AZ',\n",
              "       'addr_state:CA', 'addr_state:CO', 'addr_state:CT', 'addr_state:DC',\n",
              "       'addr_state:DE', 'addr_state:FL', 'addr_state:GA', 'addr_state:HI',\n",
              "       'addr_state:IA', 'addr_state:ID', 'addr_state:IL', 'addr_state:IN',\n",
              "       'addr_state:KS', 'addr_state:KY', 'addr_state:LA', 'addr_state:MA',\n",
              "       'addr_state:MD', 'addr_state:ME', 'addr_state:MI', 'addr_state:MN',\n",
              "       'addr_state:MO', 'addr_state:MS', 'addr_state:MT', 'addr_state:NC',\n",
              "       'addr_state:NE', 'addr_state:NH', 'addr_state:NJ', 'addr_state:NM',\n",
              "       'addr_state:NV', 'addr_state:NY', 'addr_state:OH', 'addr_state:OK',\n",
              "       'addr_state:OR', 'addr_state:PA', 'addr_state:RI', 'addr_state:SC',\n",
              "       'addr_state:SD', 'addr_state:TN', 'addr_state:TX', 'addr_state:UT',\n",
              "       'addr_state:VA', 'addr_state:VT', 'addr_state:WA', 'addr_state:WI',\n",
              "       'addr_state:WV', 'addr_state:WY', 'initial_list_status:f',\n",
              "       'initial_list_status:w'], dtype=object)"
            ]
          },
          "execution_count": 67,
          "metadata": {},
          "output_type": "execute_result"
        }
      ],
      "source": [
        "ead_inputs_train.columns.values"
      ]
    },
    {
      "cell_type": "code",
      "execution_count": null,
      "metadata": {
        "id": "Hn8m4G8G1E8X",
        "outputId": "2b2c434e-23a9-4591-9da6-ead95b4a583f"
      },
      "outputs": [
        {
          "data": {
            "text/plain": [
              "(49, 5)"
            ]
          },
          "execution_count": 68,
          "metadata": {},
          "output_type": "execute_result"
        }
      ],
      "source": [
        "len(features_all),len(features_reference_cat)"
      ]
    },
    {
      "cell_type": "code",
      "execution_count": null,
      "metadata": {
        "id": "q8WTRFmK1E8X"
      },
      "outputs": [],
      "source": [
        "ead_inputs_train = ead_inputs_train[features_all]\n",
        "# Here we keep only the variables we need for the model."
      ]
    },
    {
      "cell_type": "code",
      "execution_count": null,
      "metadata": {
        "id": "cmD-lQcF1E8Y"
      },
      "outputs": [],
      "source": [
        "ead_inputs_train = ead_inputs_train.drop(features_reference_cat, axis = 1)\n",
        "# Here we remove the dummy variable reference categories."
      ]
    },
    {
      "cell_type": "code",
      "execution_count": null,
      "metadata": {
        "id": "QY6z5F5i1E8Y",
        "outputId": "60d18420-ba31-40da-d460-c197348c2df0"
      },
      "outputs": [
        {
          "data": {
            "text/plain": [
              "LinearRegression()"
            ]
          },
          "execution_count": 71,
          "metadata": {},
          "output_type": "execute_result"
        }
      ],
      "source": [
        "reg_ead = LinearRegression()\n",
        "# We create an instance of an object from the 'LogisticRegression' class.\n",
        "reg_ead.fit(ead_inputs_train, ead_targets_train)\n",
        "# Estimates the coefficients of the object from the 'LogisticRegression' class\n",
        "# with inputs (independent variables) contained in the first dataframe\n",
        "# and targets (dependent variables) contained in the second dataframe."
      ]
    },
    {
      "cell_type": "code",
      "execution_count": null,
      "metadata": {
        "id": "9FY6Vi601E8Z"
      },
      "outputs": [],
      "source": [
        "feature_name = ead_inputs_train.columns.values"
      ]
    },
    {
      "cell_type": "code",
      "execution_count": null,
      "metadata": {
        "id": "BGWlvlIm1E8Z",
        "outputId": "135b9463-27e1-4040-d5ab-46c6ff7bf913"
      },
      "outputs": [
        {
          "data": {
            "text/html": [
              "<div>\n",
              "<style scoped>\n",
              "    .dataframe tbody tr th:only-of-type {\n",
              "        vertical-align: middle;\n",
              "    }\n",
              "\n",
              "    .dataframe tbody tr th {\n",
              "        vertical-align: top;\n",
              "    }\n",
              "\n",
              "    .dataframe thead th {\n",
              "        text-align: right;\n",
              "    }\n",
              "</style>\n",
              "<table border=\"1\" class=\"dataframe\">\n",
              "  <thead>\n",
              "    <tr style=\"text-align: right;\">\n",
              "      <th></th>\n",
              "      <th>Feature name</th>\n",
              "      <th>Coefficients</th>\n",
              "      <th>p_values</th>\n",
              "    </tr>\n",
              "  </thead>\n",
              "  <tbody>\n",
              "    <tr>\n",
              "      <th>0</th>\n",
              "      <td>Intercept</td>\n",
              "      <td>1.109746e+00</td>\n",
              "      <td>NaN</td>\n",
              "    </tr>\n",
              "    <tr>\n",
              "      <th>1</th>\n",
              "      <td>grade:A</td>\n",
              "      <td>-3.030033e-01</td>\n",
              "      <td>0.000000e+00</td>\n",
              "    </tr>\n",
              "    <tr>\n",
              "      <th>2</th>\n",
              "      <td>grade:B</td>\n",
              "      <td>-2.364277e-01</td>\n",
              "      <td>0.000000e+00</td>\n",
              "    </tr>\n",
              "    <tr>\n",
              "      <th>3</th>\n",
              "      <td>grade:C</td>\n",
              "      <td>-1.720232e-01</td>\n",
              "      <td>0.000000e+00</td>\n",
              "    </tr>\n",
              "    <tr>\n",
              "      <th>4</th>\n",
              "      <td>grade:D</td>\n",
              "      <td>-1.198470e-01</td>\n",
              "      <td>1.970424e-12</td>\n",
              "    </tr>\n",
              "    <tr>\n",
              "      <th>5</th>\n",
              "      <td>grade:E</td>\n",
              "      <td>-6.768713e-02</td>\n",
              "      <td>1.918578e-03</td>\n",
              "    </tr>\n",
              "    <tr>\n",
              "      <th>6</th>\n",
              "      <td>grade:F</td>\n",
              "      <td>-2.045907e-02</td>\n",
              "      <td>2.748685e-01</td>\n",
              "    </tr>\n",
              "    <tr>\n",
              "      <th>7</th>\n",
              "      <td>home_ownership:MORTGAGE</td>\n",
              "      <td>-6.343341e-03</td>\n",
              "      <td>6.050271e-02</td>\n",
              "    </tr>\n",
              "    <tr>\n",
              "      <th>8</th>\n",
              "      <td>home_ownership:NONE</td>\n",
              "      <td>-5.539064e-03</td>\n",
              "      <td>9.092582e-05</td>\n",
              "    </tr>\n",
              "    <tr>\n",
              "      <th>9</th>\n",
              "      <td>home_ownership:OTHER</td>\n",
              "      <td>-2.426052e-03</td>\n",
              "      <td>6.436926e-01</td>\n",
              "    </tr>\n",
              "    <tr>\n",
              "      <th>10</th>\n",
              "      <td>home_ownership:OWN</td>\n",
              "      <td>-1.619582e-03</td>\n",
              "      <td>3.963089e-02</td>\n",
              "    </tr>\n",
              "    <tr>\n",
              "      <th>11</th>\n",
              "      <td>verification_status:Not Verified</td>\n",
              "      <td>5.339510e-05</td>\n",
              "      <td>5.528332e-01</td>\n",
              "    </tr>\n",
              "    <tr>\n",
              "      <th>12</th>\n",
              "      <td>verification_status:Source Verified</td>\n",
              "      <td>8.967822e-03</td>\n",
              "      <td>5.354622e-01</td>\n",
              "    </tr>\n",
              "    <tr>\n",
              "      <th>13</th>\n",
              "      <td>purpose:car</td>\n",
              "      <td>7.904787e-04</td>\n",
              "      <td>6.340924e-01</td>\n",
              "    </tr>\n",
              "    <tr>\n",
              "      <th>14</th>\n",
              "      <td>purpose:debt_consolidation</td>\n",
              "      <td>1.264922e-02</td>\n",
              "      <td>9.646959e-01</td>\n",
              "    </tr>\n",
              "    <tr>\n",
              "      <th>15</th>\n",
              "      <td>purpose:educational</td>\n",
              "      <td>9.643587e-02</td>\n",
              "      <td>5.368894e-09</td>\n",
              "    </tr>\n",
              "    <tr>\n",
              "      <th>16</th>\n",
              "      <td>purpose:home_improvement</td>\n",
              "      <td>1.923044e-02</td>\n",
              "      <td>2.729279e-01</td>\n",
              "    </tr>\n",
              "    <tr>\n",
              "      <th>17</th>\n",
              "      <td>purpose:house</td>\n",
              "      <td>1.607120e-02</td>\n",
              "      <td>6.200015e-01</td>\n",
              "    </tr>\n",
              "    <tr>\n",
              "      <th>18</th>\n",
              "      <td>purpose:major_purchase</td>\n",
              "      <td>2.984917e-02</td>\n",
              "      <td>5.376877e-01</td>\n",
              "    </tr>\n",
              "    <tr>\n",
              "      <th>19</th>\n",
              "      <td>purpose:medical</td>\n",
              "      <td>3.962479e-02</td>\n",
              "      <td>7.391253e-02</td>\n",
              "    </tr>\n",
              "    <tr>\n",
              "      <th>20</th>\n",
              "      <td>purpose:moving</td>\n",
              "      <td>4.577630e-02</td>\n",
              "      <td>3.865040e-02</td>\n",
              "    </tr>\n",
              "    <tr>\n",
              "      <th>21</th>\n",
              "      <td>purpose:other</td>\n",
              "      <td>3.706744e-02</td>\n",
              "      <td>1.089028e-01</td>\n",
              "    </tr>\n",
              "    <tr>\n",
              "      <th>22</th>\n",
              "      <td>purpose:renewable_energy</td>\n",
              "      <td>7.212969e-02</td>\n",
              "      <td>1.423251e-01</td>\n",
              "    </tr>\n",
              "    <tr>\n",
              "      <th>23</th>\n",
              "      <td>purpose:small_business</td>\n",
              "      <td>5.128674e-02</td>\n",
              "      <td>8.692143e-01</td>\n",
              "    </tr>\n",
              "    <tr>\n",
              "      <th>24</th>\n",
              "      <td>purpose:vacation</td>\n",
              "      <td>1.874863e-02</td>\n",
              "      <td>7.311861e-01</td>\n",
              "    </tr>\n",
              "    <tr>\n",
              "      <th>25</th>\n",
              "      <td>purpose:wedding</td>\n",
              "      <td>4.350522e-02</td>\n",
              "      <td>5.539872e-03</td>\n",
              "    </tr>\n",
              "    <tr>\n",
              "      <th>26</th>\n",
              "      <td>initial_list_status:w</td>\n",
              "      <td>1.318126e-02</td>\n",
              "      <td>4.662937e-15</td>\n",
              "    </tr>\n",
              "    <tr>\n",
              "      <th>27</th>\n",
              "      <td>term_int</td>\n",
              "      <td>4.551882e-03</td>\n",
              "      <td>2.042660e-02</td>\n",
              "    </tr>\n",
              "    <tr>\n",
              "      <th>28</th>\n",
              "      <td>emp_length_int</td>\n",
              "      <td>-1.591478e-03</td>\n",
              "      <td>6.350976e-01</td>\n",
              "    </tr>\n",
              "    <tr>\n",
              "      <th>29</th>\n",
              "      <td>mths_since_issue_d</td>\n",
              "      <td>-4.305274e-03</td>\n",
              "      <td>0.000000e+00</td>\n",
              "    </tr>\n",
              "    <tr>\n",
              "      <th>30</th>\n",
              "      <td>mths_since_earliest_cr_line</td>\n",
              "      <td>-3.634030e-05</td>\n",
              "      <td>1.087757e-04</td>\n",
              "    </tr>\n",
              "    <tr>\n",
              "      <th>31</th>\n",
              "      <td>funded_amnt</td>\n",
              "      <td>2.212126e-06</td>\n",
              "      <td>6.992397e-01</td>\n",
              "    </tr>\n",
              "    <tr>\n",
              "      <th>32</th>\n",
              "      <td>int_rate</td>\n",
              "      <td>-1.172652e-02</td>\n",
              "      <td>1.887379e-14</td>\n",
              "    </tr>\n",
              "    <tr>\n",
              "      <th>33</th>\n",
              "      <td>installment</td>\n",
              "      <td>-6.865607e-05</td>\n",
              "      <td>5.568684e-01</td>\n",
              "    </tr>\n",
              "    <tr>\n",
              "      <th>34</th>\n",
              "      <td>annual_inc</td>\n",
              "      <td>5.021816e-09</td>\n",
              "      <td>1.308549e-03</td>\n",
              "    </tr>\n",
              "    <tr>\n",
              "      <th>35</th>\n",
              "      <td>dti</td>\n",
              "      <td>2.832769e-04</td>\n",
              "      <td>6.897933e-02</td>\n",
              "    </tr>\n",
              "    <tr>\n",
              "      <th>36</th>\n",
              "      <td>delinq_2yrs</td>\n",
              "      <td>4.833234e-04</td>\n",
              "      <td>5.043858e-02</td>\n",
              "    </tr>\n",
              "    <tr>\n",
              "      <th>37</th>\n",
              "      <td>inq_last_6mths</td>\n",
              "      <td>1.131678e-02</td>\n",
              "      <td>1.819423e-02</td>\n",
              "    </tr>\n",
              "    <tr>\n",
              "      <th>38</th>\n",
              "      <td>mths_since_last_delinq</td>\n",
              "      <td>-1.965980e-04</td>\n",
              "      <td>9.708935e-01</td>\n",
              "    </tr>\n",
              "    <tr>\n",
              "      <th>39</th>\n",
              "      <td>mths_since_last_record</td>\n",
              "      <td>-5.085639e-05</td>\n",
              "      <td>1.809354e-01</td>\n",
              "    </tr>\n",
              "    <tr>\n",
              "      <th>40</th>\n",
              "      <td>open_acc</td>\n",
              "      <td>-2.142130e-03</td>\n",
              "      <td>1.365854e-09</td>\n",
              "    </tr>\n",
              "    <tr>\n",
              "      <th>41</th>\n",
              "      <td>pub_rec</td>\n",
              "      <td>6.782062e-03</td>\n",
              "      <td>2.079574e-01</td>\n",
              "    </tr>\n",
              "    <tr>\n",
              "      <th>42</th>\n",
              "      <td>total_acc</td>\n",
              "      <td>4.518110e-04</td>\n",
              "      <td>5.133116e-08</td>\n",
              "    </tr>\n",
              "    <tr>\n",
              "      <th>43</th>\n",
              "      <td>acc_now_delinq</td>\n",
              "      <td>9.974801e-03</td>\n",
              "      <td>6.583494e-01</td>\n",
              "    </tr>\n",
              "    <tr>\n",
              "      <th>44</th>\n",
              "      <td>total_rev_hi_lim</td>\n",
              "      <td>2.166527e-07</td>\n",
              "      <td>2.592628e-08</td>\n",
              "    </tr>\n",
              "  </tbody>\n",
              "</table>\n",
              "</div>"
            ],
            "text/plain": [
              "                           Feature name  Coefficients      p_values\n",
              "0                             Intercept  1.109746e+00           NaN\n",
              "1                               grade:A -3.030033e-01  0.000000e+00\n",
              "2                               grade:B -2.364277e-01  0.000000e+00\n",
              "3                               grade:C -1.720232e-01  0.000000e+00\n",
              "4                               grade:D -1.198470e-01  1.970424e-12\n",
              "5                               grade:E -6.768713e-02  1.918578e-03\n",
              "6                               grade:F -2.045907e-02  2.748685e-01\n",
              "7               home_ownership:MORTGAGE -6.343341e-03  6.050271e-02\n",
              "8                   home_ownership:NONE -5.539064e-03  9.092582e-05\n",
              "9                  home_ownership:OTHER -2.426052e-03  6.436926e-01\n",
              "10                   home_ownership:OWN -1.619582e-03  3.963089e-02\n",
              "11     verification_status:Not Verified  5.339510e-05  5.528332e-01\n",
              "12  verification_status:Source Verified  8.967822e-03  5.354622e-01\n",
              "13                          purpose:car  7.904787e-04  6.340924e-01\n",
              "14           purpose:debt_consolidation  1.264922e-02  9.646959e-01\n",
              "15                  purpose:educational  9.643587e-02  5.368894e-09\n",
              "16             purpose:home_improvement  1.923044e-02  2.729279e-01\n",
              "17                        purpose:house  1.607120e-02  6.200015e-01\n",
              "18               purpose:major_purchase  2.984917e-02  5.376877e-01\n",
              "19                      purpose:medical  3.962479e-02  7.391253e-02\n",
              "20                       purpose:moving  4.577630e-02  3.865040e-02\n",
              "21                        purpose:other  3.706744e-02  1.089028e-01\n",
              "22             purpose:renewable_energy  7.212969e-02  1.423251e-01\n",
              "23               purpose:small_business  5.128674e-02  8.692143e-01\n",
              "24                     purpose:vacation  1.874863e-02  7.311861e-01\n",
              "25                      purpose:wedding  4.350522e-02  5.539872e-03\n",
              "26                initial_list_status:w  1.318126e-02  4.662937e-15\n",
              "27                             term_int  4.551882e-03  2.042660e-02\n",
              "28                       emp_length_int -1.591478e-03  6.350976e-01\n",
              "29                   mths_since_issue_d -4.305274e-03  0.000000e+00\n",
              "30          mths_since_earliest_cr_line -3.634030e-05  1.087757e-04\n",
              "31                          funded_amnt  2.212126e-06  6.992397e-01\n",
              "32                             int_rate -1.172652e-02  1.887379e-14\n",
              "33                          installment -6.865607e-05  5.568684e-01\n",
              "34                           annual_inc  5.021816e-09  1.308549e-03\n",
              "35                                  dti  2.832769e-04  6.897933e-02\n",
              "36                          delinq_2yrs  4.833234e-04  5.043858e-02\n",
              "37                       inq_last_6mths  1.131678e-02  1.819423e-02\n",
              "38               mths_since_last_delinq -1.965980e-04  9.708935e-01\n",
              "39               mths_since_last_record -5.085639e-05  1.809354e-01\n",
              "40                             open_acc -2.142130e-03  1.365854e-09\n",
              "41                              pub_rec  6.782062e-03  2.079574e-01\n",
              "42                            total_acc  4.518110e-04  5.133116e-08\n",
              "43                       acc_now_delinq  9.974801e-03  6.583494e-01\n",
              "44                     total_rev_hi_lim  2.166527e-07  2.592628e-08"
            ]
          },
          "execution_count": 73,
          "metadata": {},
          "output_type": "execute_result"
        }
      ],
      "source": [
        "summary_table = pd.DataFrame(columns = ['Feature name'], data = feature_name)\n",
        "# Creates a dataframe with a column titled 'Feature name' and row values contained in the 'feature_name' variable.\n",
        "summary_table['Coefficients'] = np.transpose(reg_ead.coef_)\n",
        "# Creates a new column in the dataframe, called 'Coefficients',\n",
        "# with row values the transposed coefficients from the 'LogisticRegression' object.\n",
        "summary_table.index = summary_table.index + 1\n",
        "# Increases the index of every row of the dataframe with 1.\n",
        "summary_table.loc[0] = ['Intercept', reg_ead.intercept_]\n",
        "# Assigns values of the row with index 0 of the dataframe.\n",
        "summary_table = summary_table.sort_index()\n",
        "# Sorts the dataframe by index.\n",
        "p_values = reg_lgd_st_2.p\n",
        "# We take the result of the newly added method 'p_values' and store it in a variable 'p_values'.\n",
        "p_values = np.append(np.nan,np.array(p_values))\n",
        "# We add the value 'NaN' in the beginning of the variable with p-values.\n",
        "summary_table['p_values'] = p_values\n",
        "# In the 'summary_table' dataframe, we add a new column, called 'p_values', containing the values from the 'p_values' variable.\n",
        "summary_table"
      ]
    },
    {
      "cell_type": "markdown",
      "metadata": {
        "id": "Pg23WYwx1E8a"
      },
      "source": [
        "## Model Validation"
      ]
    },
    {
      "cell_type": "code",
      "execution_count": null,
      "metadata": {
        "id": "_Vk-s1Va1E8a"
      },
      "outputs": [],
      "source": [
        "ead_inputs_test = ead_inputs_test[features_all]\n",
        "# Here we keep only the variables we need for the model."
      ]
    },
    {
      "cell_type": "code",
      "execution_count": null,
      "metadata": {
        "id": "d4fa6nJW1E8b"
      },
      "outputs": [],
      "source": [
        "ead_inputs_test = ead_inputs_test.drop(features_reference_cat, axis = 1)\n",
        "# Here we remove the dummy variable reference categories."
      ]
    },
    {
      "cell_type": "code",
      "execution_count": null,
      "metadata": {
        "id": "3ZYQshLT1E8c",
        "outputId": "acd7e7d4-3117-464b-acfd-eb0b9da8179a"
      },
      "outputs": [
        {
          "data": {
            "text/plain": [
              "array(['grade:A', 'grade:B', 'grade:C', 'grade:D', 'grade:E', 'grade:F',\n",
              "       'home_ownership:MORTGAGE', 'home_ownership:NONE',\n",
              "       'home_ownership:OTHER', 'home_ownership:OWN',\n",
              "       'verification_status:Not Verified',\n",
              "       'verification_status:Source Verified', 'purpose:car',\n",
              "       'purpose:debt_consolidation', 'purpose:educational',\n",
              "       'purpose:home_improvement', 'purpose:house',\n",
              "       'purpose:major_purchase', 'purpose:medical', 'purpose:moving',\n",
              "       'purpose:other', 'purpose:renewable_energy',\n",
              "       'purpose:small_business', 'purpose:vacation', 'purpose:wedding',\n",
              "       'initial_list_status:w', 'term_int', 'emp_length_int',\n",
              "       'mths_since_issue_d', 'mths_since_earliest_cr_line', 'funded_amnt',\n",
              "       'int_rate', 'installment', 'annual_inc', 'dti', 'delinq_2yrs',\n",
              "       'inq_last_6mths', 'mths_since_last_delinq',\n",
              "       'mths_since_last_record', 'open_acc', 'pub_rec', 'total_acc',\n",
              "       'acc_now_delinq', 'total_rev_hi_lim'], dtype=object)"
            ]
          },
          "execution_count": 76,
          "metadata": {},
          "output_type": "execute_result"
        }
      ],
      "source": [
        "ead_inputs_test.columns.values"
      ]
    },
    {
      "cell_type": "code",
      "execution_count": null,
      "metadata": {
        "id": "8J4f7H8D1E8c"
      },
      "outputs": [],
      "source": [
        "y_hat_test_ead = reg_ead.predict(ead_inputs_test)\n",
        "# Calculates the predicted values for the dependent variable (targets)\n",
        "# based on the values of the independent variables (inputs) supplied as an argument."
      ]
    },
    {
      "cell_type": "code",
      "execution_count": null,
      "metadata": {
        "id": "F84BjMkG1E8d"
      },
      "outputs": [],
      "source": [
        "ead_targets_test_temp = ead_targets_test"
      ]
    },
    {
      "cell_type": "code",
      "execution_count": null,
      "metadata": {
        "id": "cYSBSJJM1E8e"
      },
      "outputs": [],
      "source": [
        "ead_targets_test_temp = ead_targets_test_temp.reset_index(drop = True)\n",
        "# We reset the index of a dataframe."
      ]
    },
    {
      "cell_type": "code",
      "execution_count": null,
      "metadata": {
        "id": "djrKEyks1E8e",
        "outputId": "18bd46c5-d68e-4394-f346-c35431ca5ee2"
      },
      "outputs": [
        {
          "data": {
            "text/html": [
              "<div>\n",
              "<style scoped>\n",
              "    .dataframe tbody tr th:only-of-type {\n",
              "        vertical-align: middle;\n",
              "    }\n",
              "\n",
              "    .dataframe tbody tr th {\n",
              "        vertical-align: top;\n",
              "    }\n",
              "\n",
              "    .dataframe thead th {\n",
              "        text-align: right;\n",
              "    }\n",
              "</style>\n",
              "<table border=\"1\" class=\"dataframe\">\n",
              "  <thead>\n",
              "    <tr style=\"text-align: right;\">\n",
              "      <th></th>\n",
              "      <th>CCF</th>\n",
              "      <th>0</th>\n",
              "    </tr>\n",
              "  </thead>\n",
              "  <tbody>\n",
              "    <tr>\n",
              "      <th>CCF</th>\n",
              "      <td>1.000000</td>\n",
              "      <td>0.530654</td>\n",
              "    </tr>\n",
              "    <tr>\n",
              "      <th>0</th>\n",
              "      <td>0.530654</td>\n",
              "      <td>1.000000</td>\n",
              "    </tr>\n",
              "  </tbody>\n",
              "</table>\n",
              "</div>"
            ],
            "text/plain": [
              "          CCF         0\n",
              "CCF  1.000000  0.530654\n",
              "0    0.530654  1.000000"
            ]
          },
          "execution_count": 80,
          "metadata": {},
          "output_type": "execute_result"
        }
      ],
      "source": [
        "pd.concat([ead_targets_test_temp, pd.DataFrame(y_hat_test_ead)], axis = 1).corr()\n",
        "# We calculate the correlation between actual and predicted values."
      ]
    },
    {
      "cell_type": "markdown",
      "metadata": {
        "id": "NGc5lCg91E8f"
      },
      "source": [
        "![image.png](attachment:image.png)"
      ]
    },
    {
      "cell_type": "code",
      "execution_count": null,
      "metadata": {
        "id": "m8DJlYb61E8f",
        "outputId": "9631e2e3-4e79-461d-e1a5-243e26c29a9e"
      },
      "outputs": [
        {
          "data": {
            "text/plain": [
              "<AxesSubplot:xlabel='CCF', ylabel='Density'>"
            ]
          },
          "execution_count": 81,
          "metadata": {},
          "output_type": "execute_result"
        },
        {
          "data": {
            "image/png": "[encoded data removed]",
            "text/plain": [
              "<Figure size 432x288 with 1 Axes>"
            ]
          },
          "metadata": {
            "needs_background": "light"
          },
          "output_type": "display_data"
        }
      ],
      "source": [
        "sns.distplot(ead_targets_test - y_hat_test_ead)\n",
        "# We plot the distribution of the residuals."
      ]
    },
    {
      "cell_type": "code",
      "execution_count": null,
      "metadata": {
        "id": "rgX4oIXV1E8g",
        "outputId": "ac7ce2b6-49dc-4d60-9923-68f6db5b5fc5"
      },
      "outputs": [
        {
          "data": {
            "text/html": [
              "<div>\n",
              "<style scoped>\n",
              "    .dataframe tbody tr th:only-of-type {\n",
              "        vertical-align: middle;\n",
              "    }\n",
              "\n",
              "    .dataframe tbody tr th {\n",
              "        vertical-align: top;\n",
              "    }\n",
              "\n",
              "    .dataframe thead th {\n",
              "        text-align: right;\n",
              "    }\n",
              "</style>\n",
              "<table border=\"1\" class=\"dataframe\">\n",
              "  <thead>\n",
              "    <tr style=\"text-align: right;\">\n",
              "      <th></th>\n",
              "      <th>0</th>\n",
              "    </tr>\n",
              "  </thead>\n",
              "  <tbody>\n",
              "    <tr>\n",
              "      <th>count</th>\n",
              "      <td>8648.000000</td>\n",
              "    </tr>\n",
              "    <tr>\n",
              "      <th>mean</th>\n",
              "      <td>0.736013</td>\n",
              "    </tr>\n",
              "    <tr>\n",
              "      <th>std</th>\n",
              "      <td>0.105194</td>\n",
              "    </tr>\n",
              "    <tr>\n",
              "      <th>min</th>\n",
              "      <td>0.384774</td>\n",
              "    </tr>\n",
              "    <tr>\n",
              "      <th>25%</th>\n",
              "      <td>0.661553</td>\n",
              "    </tr>\n",
              "    <tr>\n",
              "      <th>50%</th>\n",
              "      <td>0.731750</td>\n",
              "    </tr>\n",
              "    <tr>\n",
              "      <th>75%</th>\n",
              "      <td>0.810625</td>\n",
              "    </tr>\n",
              "    <tr>\n",
              "      <th>max</th>\n",
              "      <td>1.161088</td>\n",
              "    </tr>\n",
              "  </tbody>\n",
              "</table>\n",
              "</div>"
            ],
            "text/plain": [
              "                 0\n",
              "count  8648.000000\n",
              "mean      0.736013\n",
              "std       0.105194\n",
              "min       0.384774\n",
              "25%       0.661553\n",
              "50%       0.731750\n",
              "75%       0.810625\n",
              "max       1.161088"
            ]
          },
          "execution_count": 82,
          "metadata": {},
          "output_type": "execute_result"
        }
      ],
      "source": [
        "pd.DataFrame(y_hat_test_ead).describe()\n",
        "# Shows some descriptive statisics for the values of a column."
      ]
    },
    {
      "cell_type": "code",
      "execution_count": null,
      "metadata": {
        "id": "01kaepp81E8h"
      },
      "outputs": [],
      "source": [
        "y_hat_test_ead = np.where(y_hat_test_ead < 0, 0, y_hat_test_ead)\n",
        "y_hat_test_ead = np.where(y_hat_test_ead > 1, 1, y_hat_test_ead)\n",
        "# We set predicted values that are greater than 1 to 1 and predicted values that are less than 0 to 0."
      ]
    },
    {
      "cell_type": "code",
      "execution_count": null,
      "metadata": {
        "id": "1nWMR33f1E8h",
        "outputId": "0cd15370-cb92-42c7-ecfa-3cb0cacc16a6"
      },
      "outputs": [
        {
          "data": {
            "text/html": [
              "<div>\n",
              "<style scoped>\n",
              "    .dataframe tbody tr th:only-of-type {\n",
              "        vertical-align: middle;\n",
              "    }\n",
              "\n",
              "    .dataframe tbody tr th {\n",
              "        vertical-align: top;\n",
              "    }\n",
              "\n",
              "    .dataframe thead th {\n",
              "        text-align: right;\n",
              "    }\n",
              "</style>\n",
              "<table border=\"1\" class=\"dataframe\">\n",
              "  <thead>\n",
              "    <tr style=\"text-align: right;\">\n",
              "      <th></th>\n",
              "      <th>0</th>\n",
              "    </tr>\n",
              "  </thead>\n",
              "  <tbody>\n",
              "    <tr>\n",
              "      <th>count</th>\n",
              "      <td>8648.000000</td>\n",
              "    </tr>\n",
              "    <tr>\n",
              "      <th>mean</th>\n",
              "      <td>0.735992</td>\n",
              "    </tr>\n",
              "    <tr>\n",
              "      <th>std</th>\n",
              "      <td>0.105127</td>\n",
              "    </tr>\n",
              "    <tr>\n",
              "      <th>min</th>\n",
              "      <td>0.384774</td>\n",
              "    </tr>\n",
              "    <tr>\n",
              "      <th>25%</th>\n",
              "      <td>0.661553</td>\n",
              "    </tr>\n",
              "    <tr>\n",
              "      <th>50%</th>\n",
              "      <td>0.731750</td>\n",
              "    </tr>\n",
              "    <tr>\n",
              "      <th>75%</th>\n",
              "      <td>0.810625</td>\n",
              "    </tr>\n",
              "    <tr>\n",
              "      <th>max</th>\n",
              "      <td>1.000000</td>\n",
              "    </tr>\n",
              "  </tbody>\n",
              "</table>\n",
              "</div>"
            ],
            "text/plain": [
              "                 0\n",
              "count  8648.000000\n",
              "mean      0.735992\n",
              "std       0.105127\n",
              "min       0.384774\n",
              "25%       0.661553\n",
              "50%       0.731750\n",
              "75%       0.810625\n",
              "max       1.000000"
            ]
          },
          "execution_count": 84,
          "metadata": {},
          "output_type": "execute_result"
        }
      ],
      "source": [
        "pd.DataFrame(y_hat_test_ead).describe()\n",
        "# Shows some descriptive statisics for the values of a column."
      ]
    },
    {
      "cell_type": "code",
      "execution_count": null,
      "metadata": {
        "id": "kvLaskGI1E8i"
      },
      "outputs": [],
      "source": [
        "pickle.dump(reg_ead, open('models/reg_ead.sav', 'wb'))"
      ]
    },
    {
      "cell_type": "code",
      "execution_count": null,
      "metadata": {
        "id": "Z22GL1321E8i"
      },
      "outputs": [],
      "source": []
    }
  ],
  "metadata": {
    "kernelspec": {
      "display_name": "Python 3",
      "language": "python",
      "name": "python3"
    },
    "language_info": {
      "codemirror_mode": {
        "name": "ipython",
        "version": 3
      },
      "file_extension": ".py",
      "mimetype": "text/x-python",
      "name": "python",
      "nbconvert_exporter": "python",
      "pygments_lexer": "ipython3",
      "version": "3.8.5"
    },
    "colab": {
      "provenance": []
    }
  },
  "nbformat": 4,
  "nbformat_minor": 0
}